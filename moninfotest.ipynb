{
 "cells": [
  {
   "cell_type": "markdown",
   "metadata": {},
   "source": [
    "## 试用pandas＋bokeh分析服务器性能信息"
   ]
  },
  {
   "cell_type": "markdown",
   "metadata": {},
   "source": [
    "### 一、读取csv数据"
   ]
  },
  {
   "cell_type": "code",
   "execution_count": 29,
   "metadata": {},
   "outputs": [
    {
     "data": {
      "text/html": [
       "<div>\n",
       "<style scoped>\n",
       "    .dataframe tbody tr th:only-of-type {\n",
       "        vertical-align: middle;\n",
       "    }\n",
       "\n",
       "    .dataframe tbody tr th {\n",
       "        vertical-align: top;\n",
       "    }\n",
       "\n",
       "    .dataframe thead th {\n",
       "        text-align: right;\n",
       "    }\n",
       "</style>\n",
       "<table border=\"1\" class=\"dataframe\">\n",
       "  <thead>\n",
       "    <tr style=\"text-align: right;\">\n",
       "      <th></th>\n",
       "      <th>ip</th>\n",
       "      <th>cpuidle</th>\n",
       "      <th>memtotal</th>\n",
       "      <th>memused</th>\n",
       "      <th>rx</th>\n",
       "      <th>tx</th>\n",
       "      <th>rootrate</th>\n",
       "      <th>ioawait</th>\n",
       "      <th>ioutil</th>\n",
       "    </tr>\n",
       "    <tr>\n",
       "      <th>date</th>\n",
       "      <th></th>\n",
       "      <th></th>\n",
       "      <th></th>\n",
       "      <th></th>\n",
       "      <th></th>\n",
       "      <th></th>\n",
       "      <th></th>\n",
       "      <th></th>\n",
       "      <th></th>\n",
       "    </tr>\n",
       "  </thead>\n",
       "  <tbody>\n",
       "    <tr>\n",
       "      <th>2020-02-23 22:20:02</th>\n",
       "      <td>192.168.10.171</td>\n",
       "      <td>88.2</td>\n",
       "      <td>2047936</td>\n",
       "      <td>594160</td>\n",
       "      <td>19232</td>\n",
       "      <td>61151</td>\n",
       "      <td>14</td>\n",
       "      <td>0.31</td>\n",
       "      <td>0.35</td>\n",
       "    </tr>\n",
       "    <tr>\n",
       "      <th>2020-02-23 22:25:02</th>\n",
       "      <td>192.168.10.171</td>\n",
       "      <td>88.2</td>\n",
       "      <td>2047936</td>\n",
       "      <td>602008</td>\n",
       "      <td>7023</td>\n",
       "      <td>13761</td>\n",
       "      <td>14</td>\n",
       "      <td>0.31</td>\n",
       "      <td>0.35</td>\n",
       "    </tr>\n",
       "    <tr>\n",
       "      <th>2020-02-23 22:30:02</th>\n",
       "      <td>192.168.10.171</td>\n",
       "      <td>87.5</td>\n",
       "      <td>2047936</td>\n",
       "      <td>603252</td>\n",
       "      <td>11638</td>\n",
       "      <td>17528</td>\n",
       "      <td>14</td>\n",
       "      <td>0.31</td>\n",
       "      <td>0.35</td>\n",
       "    </tr>\n",
       "  </tbody>\n",
       "</table>\n",
       "</div>"
      ],
      "text/plain": [
       "                                 ip  cpuidle  memtotal  memused     rx     tx  \\\n",
       "date                                                                            \n",
       "2020-02-23 22:20:02  192.168.10.171     88.2   2047936   594160  19232  61151   \n",
       "2020-02-23 22:25:02  192.168.10.171     88.2   2047936   602008   7023  13761   \n",
       "2020-02-23 22:30:02  192.168.10.171     87.5   2047936   603252  11638  17528   \n",
       "\n",
       "                     rootrate  ioawait  ioutil  \n",
       "date                                            \n",
       "2020-02-23 22:20:02        14     0.31    0.35  \n",
       "2020-02-23 22:25:02        14     0.31    0.35  \n",
       "2020-02-23 22:30:02        14     0.31    0.35  "
      ]
     },
     "execution_count": 29,
     "metadata": {},
     "output_type": "execute_result"
    }
   ],
   "source": [
    "%matplotlib inline\n",
    "\n",
    "import pandas as pd\n",
    "import matplotlib.pyplot as plt\n",
    "import numpy as np\n",
    "\n",
    "plt.rcParams['figure.figsize'] = (15, 5)\n",
    "df = pd.read_csv('sample.csv',header=0,parse_dates=True, index_col='date',\\\n",
    "                   names=['date','ip','cpuidle','memtotal','memused','rx','tx','rootrate','ioawait','ioutil'])\n",
    "df.dropna(axis=0)\n",
    "df[:3]"
   ]
  },
  {
   "cell_type": "markdown",
   "metadata": {},
   "source": [
    "### 二、查看信息"
   ]
  },
  {
   "cell_type": "code",
   "execution_count": 30,
   "metadata": {},
   "outputs": [
    {
     "data": {
      "text/plain": [
       "Index(['ip', 'cpuidle', 'memtotal', 'memused', 'rx', 'tx', 'rootrate',\n",
       "       'ioawait', 'ioutil'],\n",
       "      dtype='object')"
      ]
     },
     "execution_count": 30,
     "metadata": {},
     "output_type": "execute_result"
    }
   ],
   "source": [
    "#  df的列里面不包括索引列date\n",
    "df.columns"
   ]
  },
  {
   "cell_type": "code",
   "execution_count": 31,
   "metadata": {},
   "outputs": [
    {
     "data": {
      "text/plain": [
       "ip           object\n",
       "cpuidle     float64\n",
       "memtotal      int64\n",
       "memused       int64\n",
       "rx            int64\n",
       "tx            int64\n",
       "rootrate      int64\n",
       "ioawait     float64\n",
       "ioutil      float64\n",
       "dtype: object"
      ]
     },
     "execution_count": 31,
     "metadata": {},
     "output_type": "execute_result"
    }
   ],
   "source": [
    "# 数据类型\n",
    "df.dtypes"
   ]
  },
  {
   "cell_type": "code",
   "execution_count": 32,
   "metadata": {},
   "outputs": [
    {
     "data": {
      "text/plain": [
       "DatetimeIndex(['2020-02-23 22:20:02', '2020-02-23 22:25:02',\n",
       "               '2020-02-23 22:30:02', '2020-02-23 22:35:02',\n",
       "               '2020-02-23 22:40:02'],\n",
       "              dtype='datetime64[ns]', name='date', freq=None)"
      ]
     },
     "execution_count": 32,
     "metadata": {},
     "output_type": "execute_result"
    }
   ],
   "source": [
    "df.index[:5]"
   ]
  },
  {
   "cell_type": "code",
   "execution_count": 33,
   "metadata": {},
   "outputs": [
    {
     "data": {
      "text/plain": [
       "<bound method DataFrame.info of                                  ip  cpuidle  memtotal  memused     rx     tx  \\\n",
       "date                                                                            \n",
       "2020-02-23 22:20:02  192.168.10.171     88.2   2047936   594160  19232  61151   \n",
       "2020-02-23 22:25:02  192.168.10.171     88.2   2047936   602008   7023  13761   \n",
       "2020-02-23 22:30:02  192.168.10.171     87.5   2047936   603252  11638  17528   \n",
       "2020-02-23 22:35:02  192.168.10.171     93.8   2047936   595900  12014  18819   \n",
       "2020-02-23 22:40:02  192.168.10.171     88.2   2047936   597732  11964  21469   \n",
       "...                             ...      ...       ...      ...    ...    ...   \n",
       "2020-03-04 22:05:06   192.168.10.97     54.5   4040092  1193092  32531   1157   \n",
       "2020-03-04 22:10:07   192.168.10.97     73.5   4040092  1215996  69641   3245   \n",
       "2020-03-04 22:15:06   192.168.10.97     35.3   4040092  1201992   4682    635   \n",
       "2020-03-04 22:20:07   192.168.10.97     72.7   4040092  1219812  58807   2810   \n",
       "2020-03-04 22:25:06   192.168.10.97     48.5   4040092  1217228  61924   2509   \n",
       "\n",
       "                     rootrate  ioawait  ioutil  \n",
       "date                                            \n",
       "2020-02-23 22:20:02        14     0.31    0.35  \n",
       "2020-02-23 22:25:02        14     0.31    0.35  \n",
       "2020-02-23 22:30:02        14     0.31    0.35  \n",
       "2020-02-23 22:35:02        14     0.31    0.35  \n",
       "2020-02-23 22:40:02        14     0.31    0.35  \n",
       "...                       ...      ...     ...  \n",
       "2020-03-04 22:05:06        41    25.12   15.43  \n",
       "2020-03-04 22:10:07        41    25.12   15.43  \n",
       "2020-03-04 22:15:06        41    25.12   15.43  \n",
       "2020-03-04 22:20:07        41    25.12   15.43  \n",
       "2020-03-04 22:25:06        41    25.12   15.43  \n",
       "\n",
       "[31679 rows x 9 columns]>"
      ]
     },
     "execution_count": 33,
     "metadata": {},
     "output_type": "execute_result"
    }
   ],
   "source": [
    "# info最后一行显示了df的大小\n",
    "df.info"
   ]
  },
  {
   "cell_type": "markdown",
   "metadata": {},
   "source": [
    "### 三、加一列内存使用率memutils"
   ]
  },
  {
   "cell_type": "code",
   "execution_count": 34,
   "metadata": {},
   "outputs": [],
   "source": [
    "memutils_df=pd.DataFrame(df['memused']/df['memtotal']*100).round(2)\n",
    "memutils_df.columns=['memutils']\n",
    "memutils_df[:5]\n",
    "df3=pd.merge(df,memutils_df,how='right',left_index=True,right_index=True)\n",
    "df=pd.merge(df,memutils_df,how='right',left_index=True,right_index=True)"
   ]
  },
  {
   "cell_type": "code",
   "execution_count": 35,
   "metadata": {},
   "outputs": [
    {
     "data": {
      "text/html": [
       "<div>\n",
       "<style scoped>\n",
       "    .dataframe tbody tr th:only-of-type {\n",
       "        vertical-align: middle;\n",
       "    }\n",
       "\n",
       "    .dataframe tbody tr th {\n",
       "        vertical-align: top;\n",
       "    }\n",
       "\n",
       "    .dataframe thead th {\n",
       "        text-align: right;\n",
       "    }\n",
       "</style>\n",
       "<table border=\"1\" class=\"dataframe\">\n",
       "  <thead>\n",
       "    <tr style=\"text-align: right;\">\n",
       "      <th></th>\n",
       "      <th>ip</th>\n",
       "      <th>cpuidle</th>\n",
       "      <th>memtotal</th>\n",
       "      <th>memused</th>\n",
       "      <th>rx</th>\n",
       "      <th>tx</th>\n",
       "      <th>rootrate</th>\n",
       "      <th>ioawait</th>\n",
       "      <th>ioutil</th>\n",
       "      <th>memutils</th>\n",
       "    </tr>\n",
       "    <tr>\n",
       "      <th>date</th>\n",
       "      <th></th>\n",
       "      <th></th>\n",
       "      <th></th>\n",
       "      <th></th>\n",
       "      <th></th>\n",
       "      <th></th>\n",
       "      <th></th>\n",
       "      <th></th>\n",
       "      <th></th>\n",
       "      <th></th>\n",
       "    </tr>\n",
       "  </thead>\n",
       "  <tbody>\n",
       "    <tr>\n",
       "      <th>2020-02-23 22:10:02</th>\n",
       "      <td>192.168.10.23</td>\n",
       "      <td>41.3</td>\n",
       "      <td>115572872</td>\n",
       "      <td>90595360</td>\n",
       "      <td>1005</td>\n",
       "      <td>253</td>\n",
       "      <td>67</td>\n",
       "      <td>1.66</td>\n",
       "      <td>0.07</td>\n",
       "      <td>78.39</td>\n",
       "    </tr>\n",
       "    <tr>\n",
       "      <th>2020-02-23 22:10:03</th>\n",
       "      <td>192.168.10.92</td>\n",
       "      <td>46.0</td>\n",
       "      <td>8168864</td>\n",
       "      <td>3846048</td>\n",
       "      <td>95167</td>\n",
       "      <td>129432</td>\n",
       "      <td>71</td>\n",
       "      <td>3.51</td>\n",
       "      <td>56.01</td>\n",
       "      <td>47.08</td>\n",
       "    </tr>\n",
       "    <tr>\n",
       "      <th>2020-02-23 22:15:02</th>\n",
       "      <td>192.168.10.30</td>\n",
       "      <td>93.8</td>\n",
       "      <td>65955588</td>\n",
       "      <td>65264088</td>\n",
       "      <td>12110</td>\n",
       "      <td>117974</td>\n",
       "      <td>67</td>\n",
       "      <td>3.05</td>\n",
       "      <td>0.22</td>\n",
       "      <td>98.95</td>\n",
       "    </tr>\n",
       "  </tbody>\n",
       "</table>\n",
       "</div>"
      ],
      "text/plain": [
       "                                ip  cpuidle   memtotal   memused     rx  \\\n",
       "date                                                                      \n",
       "2020-02-23 22:10:02  192.168.10.23     41.3  115572872  90595360   1005   \n",
       "2020-02-23 22:10:03  192.168.10.92     46.0    8168864   3846048  95167   \n",
       "2020-02-23 22:15:02  192.168.10.30     93.8   65955588  65264088  12110   \n",
       "\n",
       "                         tx  rootrate  ioawait  ioutil  memutils  \n",
       "date                                                              \n",
       "2020-02-23 22:10:02     253        67     1.66    0.07     78.39  \n",
       "2020-02-23 22:10:03  129432        71     3.51   56.01     47.08  \n",
       "2020-02-23 22:15:02  117974        67     3.05    0.22     98.95  "
      ]
     },
     "execution_count": 35,
     "metadata": {},
     "output_type": "execute_result"
    }
   ],
   "source": [
    "df[:3]"
   ]
  },
  {
   "cell_type": "markdown",
   "metadata": {},
   "source": [
    "### 四、取一列画个时序图"
   ]
  },
  {
   "cell_type": "code",
   "execution_count": 36,
   "metadata": {},
   "outputs": [
    {
     "data": {
      "text/html": [
       "<div>\n",
       "<style scoped>\n",
       "    .dataframe tbody tr th:only-of-type {\n",
       "        vertical-align: middle;\n",
       "    }\n",
       "\n",
       "    .dataframe tbody tr th {\n",
       "        vertical-align: top;\n",
       "    }\n",
       "\n",
       "    .dataframe thead th {\n",
       "        text-align: right;\n",
       "    }\n",
       "</style>\n",
       "<table border=\"1\" class=\"dataframe\">\n",
       "  <thead>\n",
       "    <tr style=\"text-align: right;\">\n",
       "      <th></th>\n",
       "      <th>cpuidle</th>\n",
       "    </tr>\n",
       "    <tr>\n",
       "      <th>date</th>\n",
       "      <th></th>\n",
       "    </tr>\n",
       "  </thead>\n",
       "  <tbody>\n",
       "    <tr>\n",
       "      <th>2020-02-23 22:20:02</th>\n",
       "      <td>88.2</td>\n",
       "    </tr>\n",
       "    <tr>\n",
       "      <th>2020-02-23 22:20:02</th>\n",
       "      <td>88.2</td>\n",
       "    </tr>\n",
       "    <tr>\n",
       "      <th>2020-02-23 22:20:02</th>\n",
       "      <td>88.2</td>\n",
       "    </tr>\n",
       "    <tr>\n",
       "      <th>2020-02-23 22:20:02</th>\n",
       "      <td>88.2</td>\n",
       "    </tr>\n",
       "    <tr>\n",
       "      <th>2020-02-23 22:25:02</th>\n",
       "      <td>88.2</td>\n",
       "    </tr>\n",
       "  </tbody>\n",
       "</table>\n",
       "</div>"
      ],
      "text/plain": [
       "                     cpuidle\n",
       "date                        \n",
       "2020-02-23 22:20:02     88.2\n",
       "2020-02-23 22:20:02     88.2\n",
       "2020-02-23 22:20:02     88.2\n",
       "2020-02-23 22:20:02     88.2\n",
       "2020-02-23 22:25:02     88.2"
      ]
     },
     "execution_count": 36,
     "metadata": {},
     "output_type": "execute_result"
    }
   ],
   "source": [
    "## 单独画一个ip的cpuidle图，用resample改时间间隔重取数据\n",
    "df.loc[(df['ip']=='192.168.10.171'),['cpuidle']][:5]"
   ]
  },
  {
   "cell_type": "code",
   "execution_count": 37,
   "metadata": {},
   "outputs": [
    {
     "data": {
      "text/plain": [
       "<matplotlib.axes._subplots.AxesSubplot at 0x7f10efeeaad0>"
      ]
     },
     "execution_count": 37,
     "metadata": {},
     "output_type": "execute_result"
    },
    {
     "data": {
      "image/png": "[encoded data removed]",
      "text/plain": [
       "<Figure size 1080x360 with 1 Axes>"
      ]
     },
     "metadata": {
      "needs_background": "light"
     },
     "output_type": "display_data"
    }
   ],
   "source": [
    "#单个ip的cpuidle曲线图，数据太密了，不好看\n",
    "df.loc[(df['ip']=='192.168.10.171'),['cpuidle']].plot()"
   ]
  },
  {
   "cell_type": "code",
   "execution_count": 38,
   "metadata": {},
   "outputs": [
    {
     "data": {
      "text/plain": [
       "<matplotlib.axes._subplots.AxesSubplot at 0x7f10efef26d0>"
      ]
     },
     "execution_count": 38,
     "metadata": {},
     "output_type": "execute_result"
    },
    {
     "data": {
      "image/png": "[encoded data removed]",
      "text/plain": [
       "<Figure size 1080x360 with 1 Axes>"
      ]
     },
     "metadata": {
      "needs_background": "light"
     },
     "output_type": "display_data"
    }
   ],
   "source": [
    "#用resample重新采样\n",
    "df.loc[(df['ip']=='192.168.10.171' ),['cpuidle']].resample('120min').mean().plot()"
   ]
  },
  {
   "cell_type": "code",
   "execution_count": 39,
   "metadata": {},
   "outputs": [
    {
     "data": {
      "text/plain": [
       "<matplotlib.axes._subplots.AxesSubplot at 0x7f10f4acae50>"
      ]
     },
     "execution_count": 39,
     "metadata": {},
     "output_type": "execute_result"
    },
    {
     "data": {
      "image/png": "[encoded data removed]",
      "text/plain": [
       "<Figure size 1080x360 with 1 Axes>"
      ]
     },
     "metadata": {
      "needs_background": "light"
     },
     "output_type": "display_data"
    }
   ],
   "source": [
    "#按天采样再画\n",
    "df.loc[(df['ip']=='192.168.10.171' ),['cpuidle']].resample('D').mean().plot()"
   ]
  },
  {
   "cell_type": "markdown",
   "metadata": {},
   "source": [
    "### 五、画出所有ip的cpuidle时序图"
   ]
  },
  {
   "cell_type": "code",
   "execution_count": 40,
   "metadata": {},
   "outputs": [
    {
     "data": {
      "text/plain": [
       "ip\n",
       "192.168.10.171    AxesSubplot(0.125,0.125;0.775x0.755)\n",
       "192.168.10.23     AxesSubplot(0.125,0.125;0.775x0.755)\n",
       "192.168.10.28     AxesSubplot(0.125,0.125;0.775x0.755)\n",
       "192.168.10.30     AxesSubplot(0.125,0.125;0.775x0.755)\n",
       "192.168.10.40     AxesSubplot(0.125,0.125;0.775x0.755)\n",
       "192.168.10.92     AxesSubplot(0.125,0.125;0.775x0.755)\n",
       "192.168.10.93     AxesSubplot(0.125,0.125;0.775x0.755)\n",
       "192.168.10.94     AxesSubplot(0.125,0.125;0.775x0.755)\n",
       "192.168.10.95     AxesSubplot(0.125,0.125;0.775x0.755)\n",
       "192.168.10.96     AxesSubplot(0.125,0.125;0.775x0.755)\n",
       "192.168.10.97     AxesSubplot(0.125,0.125;0.775x0.755)\n",
       "Name: cpuidle, dtype: object"
      ]
     },
     "execution_count": 40,
     "metadata": {},
     "output_type": "execute_result"
    },
    {
     "data": {
      "image/png": "[encoded data removed]",
      "text/plain": [
       "<Figure size 1080x360 with 1 Axes>"
      ]
     },
     "metadata": {
      "needs_background": "light"
     },
     "output_type": "display_data"
    }
   ],
   "source": [
    "## 按ip分组，显示cpuidle变化曲线，只是没法标出label，不大好：（\n",
    "df.groupby('ip')['cpuidle'].resample('D').mean().groupby('ip').plot()"
   ]
  },
  {
   "cell_type": "code",
   "execution_count": 41,
   "metadata": {
    "scrolled": false
   },
   "outputs": [
    {
     "data": {
      "image/png": "[encoded data removed]",
      "text/plain": [
       "<Figure size 1080x360 with 1 Axes>"
      ]
     },
     "metadata": {
      "needs_background": "light"
     },
     "output_type": "display_data"
    }
   ],
   "source": [
    "##  加上label，语法麻烦点\n",
    "dfg=df.groupby('ip')['cpuidle'].resample('D').mean().reset_index().set_index('date')\n",
    "ips=dfg['ip'].unique()\n",
    "fig, ax = plt.subplots()\n",
    "for ip in ips:\n",
    "    dftmp=dfg[(dfg['ip']==ip)]['cpuidle'].reset_index()\n",
    "    ax.plot(dftmp['date'],dftmp['cpuidle'],label=ip)\n",
    "    legend = ax.legend(loc='upper right',  fontsize='x-large')\n",
    "\n",
    "plt.show()"
   ]
  },
  {
   "cell_type": "markdown",
   "metadata": {},
   "source": [
    "### plot用法参考：https://matplotlib.org/3.1.3/api/_as_gen/matplotlib.pyplot.plot.html#matplotlib.pyplot.plot  "
   ]
  },
  {
   "cell_type": "markdown",
   "metadata": {},
   "source": [
    "### 六、把四个用百分比表示的列画在一起，限定ip"
   ]
  },
  {
   "cell_type": "code",
   "execution_count": 52,
   "metadata": {},
   "outputs": [
    {
     "data": {
      "text/plain": [
       "<matplotlib.axes._subplots.AxesSubplot at 0x7f10efaeea90>"
      ]
     },
     "execution_count": 52,
     "metadata": {},
     "output_type": "execute_result"
    },
    {
     "data": {
      "image/png": "[encoded data removed]",
      "text/plain": [
       "<Figure size 1080x360 with 1 Axes>"
      ]
     },
     "metadata": {
      "needs_background": "light"
     },
     "output_type": "display_data"
    }
   ],
   "source": [
    "## 把四个用百分比表示的列画在一起，限定ip\n",
    "df.loc[(df['ip']=='192.168.10.171' ),['cpuidle','rootrate','ioutil','memutils']].resample('120min').mean().plot()"
   ]
  },
  {
   "cell_type": "markdown",
   "metadata": {},
   "source": [
    "### 七、bokeh 画图"
   ]
  },
  {
   "cell_type": "markdown",
   "metadata": {},
   "source": [
    "* 优点是可以出交互图，官网参考：https://docs.bokeh.org/en/latest/docs/user_guide/interaction/legends.html "
   ]
  },
  {
   "cell_type": "code",
   "execution_count": 53,
   "metadata": {},
   "outputs": [
    {
     "data": {
      "text/html": [
       "\n",
       "    <div class=\"bk-root\">\n",
       "        <a href=\"https://bokeh.org\" target=\"_blank\" class=\"bk-logo bk-logo-small bk-logo-notebook\"></a>\n",
       "        <span id=\"1008\">Loading BokehJS ...</span>\n",
       "    </div>"
      ]
     },
     "metadata": {},
     "output_type": "display_data"
    },
    {
     "data": {
      "application/javascript": [
       "\n",
       "(function(root) {\n",
       "  function now() {\n",
       "    return new Date();\n",
       "  }\n",
       "\n",
       "  var force = true;\n",
       "\n",
       "  if (typeof root._bokeh_onload_callbacks === \"undefined\" || force === true) {\n",
       "    root._bokeh_onload_callbacks = [];\n",
       "    root._bokeh_is_loading = undefined;\n",
       "  }\n",
       "\n",
       "  var JS_MIME_TYPE = 'application/javascript';\n",
       "  var HTML_MIME_TYPE = 'text/html';\n",
       "  var EXEC_MIME_TYPE = 'application/vnd.bokehjs_exec.v0+json';\n",
       "  var CLASS_NAME = 'output_bokeh rendered_html';\n",
       "\n",
       "  /**\n",
       "   * Render data to the DOM node\n",
       "   */\n",
       "  function render(props, node) {\n",
       "    var script = document.createElement(\"script\");\n",
       "    node.appendChild(script);\n",
       "  }\n",
       "\n",
       "  /**\n",
       "   * Handle when an output is cleared or removed\n",
       "   */\n",
       "  function handleClearOutput(event, handle) {\n",
       "    var cell = handle.cell;\n",
       "\n",
       "    var id = cell.output_area._bokeh_element_id;\n",
       "    var server_id = cell.output_area._bokeh_server_id;\n",
       "    // Clean up Bokeh references\n",
       "    if (id != null && id in Bokeh.index) {\n",
       "      Bokeh.index[id].model.document.clear();\n",
       "      delete Bokeh.index[id];\n",
       "    }\n",
       "\n",
       "    if (server_id !== undefined) {\n",
       "      // Clean up Bokeh references\n",
       "      var cmd = \"from bokeh.io.state import curstate; print(curstate().uuid_to_server['\" + server_id + \"'].get_sessions()[0].document.roots[0]._id)\";\n",
       "      cell.notebook.kernel.execute(cmd, {\n",
       "        iopub: {\n",
       "          output: function(msg) {\n",
       "            var id = msg.content.text.trim();\n",
       "            if (id in Bokeh.index) {\n",
       "              Bokeh.index[id].model.document.clear();\n",
       "              delete Bokeh.index[id];\n",
       "            }\n",
       "          }\n",
       "        }\n",
       "      });\n",
       "      // Destroy server and session\n",
       "      var cmd = \"import bokeh.io.notebook as ion; ion.destroy_server('\" + server_id + \"')\";\n",
       "      cell.notebook.kernel.execute(cmd);\n",
       "    }\n",
       "  }\n",
       "\n",
       "  /**\n",
       "   * Handle when a new output is added\n",
       "   */\n",
       "  function handleAddOutput(event, handle) {\n",
       "    var output_area = handle.output_area;\n",
       "    var output = handle.output;\n",
       "\n",
       "    // limit handleAddOutput to display_data with EXEC_MIME_TYPE content only\n",
       "    if ((output.output_type != \"display_data\") || (!output.data.hasOwnProperty(EXEC_MIME_TYPE))) {\n",
       "      return\n",
       "    }\n",
       "\n",
       "    var toinsert = output_area.element.find(\".\" + CLASS_NAME.split(' ')[0]);\n",
       "\n",
       "    if (output.metadata[EXEC_MIME_TYPE][\"id\"] !== undefined) {\n",
       "      toinsert[toinsert.length - 1].firstChild.textContent = output.data[JS_MIME_TYPE];\n",
       "      // store reference to embed id on output_area\n",
       "      output_area._bokeh_element_id = output.metadata[EXEC_MIME_TYPE][\"id\"];\n",
       "    }\n",
       "    if (output.metadata[EXEC_MIME_TYPE][\"server_id\"] !== undefined) {\n",
       "      var bk_div = document.createElement(\"div\");\n",
       "      bk_div.innerHTML = output.data[HTML_MIME_TYPE];\n",
       "      var script_attrs = bk_div.children[0].attributes;\n",
       "      for (var i = 0; i < script_attrs.length; i++) {\n",
       "        toinsert[toinsert.length - 1].firstChild.setAttribute(script_attrs[i].name, script_attrs[i].value);\n",
       "      }\n",
       "      // store reference to server id on output_area\n",
       "      output_area._bokeh_server_id = output.metadata[EXEC_MIME_TYPE][\"server_id\"];\n",
       "    }\n",
       "  }\n",
       "\n",
       "  function register_renderer(events, OutputArea) {\n",
       "\n",
       "    function append_mime(data, metadata, element) {\n",
       "      // create a DOM node to render to\n",
       "      var toinsert = this.create_output_subarea(\n",
       "        metadata,\n",
       "        CLASS_NAME,\n",
       "        EXEC_MIME_TYPE\n",
       "      );\n",
       "      this.keyboard_manager.register_events(toinsert);\n",
       "      // Render to node\n",
       "      var props = {data: data, metadata: metadata[EXEC_MIME_TYPE]};\n",
       "      render(props, toinsert[toinsert.length - 1]);\n",
       "      element.append(toinsert);\n",
       "      return toinsert\n",
       "    }\n",
       "\n",
       "    /* Handle when an output is cleared or removed */\n",
       "    events.on('clear_output.CodeCell', handleClearOutput);\n",
       "    events.on('delete.Cell', handleClearOutput);\n",
       "\n",
       "    /* Handle when a new output is added */\n",
       "    events.on('output_added.OutputArea', handleAddOutput);\n",
       "\n",
       "    /**\n",
       "     * Register the mime type and append_mime function with output_area\n",
       "     */\n",
       "    OutputArea.prototype.register_mime_type(EXEC_MIME_TYPE, append_mime, {\n",
       "      /* Is output safe? */\n",
       "      safe: true,\n",
       "      /* Index of renderer in `output_area.display_order` */\n",
       "      index: 0\n",
       "    });\n",
       "  }\n",
       "\n",
       "  // register the mime type if in Jupyter Notebook environment and previously unregistered\n",
       "  if (root.Jupyter !== undefined) {\n",
       "    var events = require('base/js/events');\n",
       "    var OutputArea = require('notebook/js/outputarea').OutputArea;\n",
       "\n",
       "    if (OutputArea.prototype.mime_types().indexOf(EXEC_MIME_TYPE) == -1) {\n",
       "      register_renderer(events, OutputArea);\n",
       "    }\n",
       "  }\n",
       "\n",
       "  \n",
       "  if (typeof (root._bokeh_timeout) === \"undefined\" || force === true) {\n",
       "    root._bokeh_timeout = Date.now() + 5000;\n",
       "    root._bokeh_failed_load = false;\n",
       "  }\n",
       "\n",
       "  var NB_LOAD_WARNING = {'data': {'text/html':\n",
       "     \"<div style='background-color: #fdd'>\\n\"+\n",
       "     \"<p>\\n\"+\n",
       "     \"BokehJS does not appear to have successfully loaded. If loading BokehJS from CDN, this \\n\"+\n",
       "     \"may be due to a slow or bad network connection. Possible fixes:\\n\"+\n",
       "     \"</p>\\n\"+\n",
       "     \"<ul>\\n\"+\n",
       "     \"<li>re-rerun `output_notebook()` to attempt to load from CDN again, or</li>\\n\"+\n",
       "     \"<li>use INLINE resources instead, as so:</li>\\n\"+\n",
       "     \"</ul>\\n\"+\n",
       "     \"<code>\\n\"+\n",
       "     \"from bokeh.resources import INLINE\\n\"+\n",
       "     \"output_notebook(resources=INLINE)\\n\"+\n",
       "     \"</code>\\n\"+\n",
       "     \"</div>\"}};\n",
       "\n",
       "  function display_loaded() {\n",
       "    var el = document.getElementById(\"1008\");\n",
       "    if (el != null) {\n",
       "      el.textContent = \"BokehJS is loading...\";\n",
       "    }\n",
       "    if (root.Bokeh !== undefined) {\n",
       "      if (el != null) {\n",
       "        el.textContent = \"BokehJS \" + root.Bokeh.version + \" successfully loaded.\";\n",
       "      }\n",
       "    } else if (Date.now() < root._bokeh_timeout) {\n",
       "      setTimeout(display_loaded, 100)\n",
       "    }\n",
       "  }\n",
       "\n",
       "\n",
       "  function run_callbacks() {\n",
       "    try {\n",
       "      root._bokeh_onload_callbacks.forEach(function(callback) {\n",
       "        if (callback != null)\n",
       "          callback();\n",
       "      });\n",
       "    } finally {\n",
       "      delete root._bokeh_onload_callbacks\n",
       "    }\n",
       "    console.debug(\"Bokeh: all callbacks have finished\");\n",
       "  }\n",
       "\n",
       "  function load_libs(css_urls, js_urls, callback) {\n",
       "    if (css_urls == null) css_urls = [];\n",
       "    if (js_urls == null) js_urls = [];\n",
       "\n",
       "    root._bokeh_onload_callbacks.push(callback);\n",
       "    if (root._bokeh_is_loading > 0) {\n",
       "      console.debug(\"Bokeh: BokehJS is being loaded, scheduling callback at\", now());\n",
       "      return null;\n",
       "    }\n",
       "    if (js_urls == null || js_urls.length === 0) {\n",
       "      run_callbacks();\n",
       "      return null;\n",
       "    }\n",
       "    console.debug(\"Bokeh: BokehJS not loaded, scheduling load and callback at\", now());\n",
       "    root._bokeh_is_loading = css_urls.length + js_urls.length;\n",
       "\n",
       "    function on_load() {\n",
       "      root._bokeh_is_loading--;\n",
       "      if (root._bokeh_is_loading === 0) {\n",
       "        console.debug(\"Bokeh: all BokehJS libraries/stylesheets loaded\");\n",
       "        run_callbacks()\n",
       "      }\n",
       "    }\n",
       "\n",
       "    function on_error() {\n",
       "      console.error(\"failed to load \" + url);\n",
       "    }\n",
       "\n",
       "    for (var i = 0; i < css_urls.length; i++) {\n",
       "      var url = css_urls[i];\n",
       "      const element = document.createElement(\"link\");\n",
       "      element.onload = on_load;\n",
       "      element.onerror = on_error;\n",
       "      element.rel = \"stylesheet\";\n",
       "      element.type = \"text/css\";\n",
       "      element.href = url;\n",
       "      console.debug(\"Bokeh: injecting link tag for BokehJS stylesheet: \", url);\n",
       "      document.body.appendChild(element);\n",
       "    }\n",
       "\n",
       "    for (var i = 0; i < js_urls.length; i++) {\n",
       "      var url = js_urls[i];\n",
       "      var element = document.createElement('script');\n",
       "      element.onload = on_load;\n",
       "      element.onerror = on_error;\n",
       "      element.async = false;\n",
       "      element.src = url;\n",
       "      console.debug(\"Bokeh: injecting script tag for BokehJS library: \", url);\n",
       "      document.head.appendChild(element);\n",
       "    }\n",
       "  };var element = document.getElementById(\"1008\");\n",
       "  if (element == null) {\n",
       "    console.error(\"Bokeh: ERROR: autoload.js configured with elementid '1008' but no matching script tag was found. \")\n",
       "    return false;\n",
       "  }\n",
       "\n",
       "  function inject_raw_css(css) {\n",
       "    const element = document.createElement(\"style\");\n",
       "    element.appendChild(document.createTextNode(css));\n",
       "    document.body.appendChild(element);\n",
       "  }\n",
       "\n",
       "  \n",
       "  var js_urls = [\"https://cdn.pydata.org/bokeh/release/bokeh-1.4.0.min.js\", \"https://cdn.pydata.org/bokeh/release/bokeh-widgets-1.4.0.min.js\", \"https://cdn.pydata.org/bokeh/release/bokeh-tables-1.4.0.min.js\", \"https://cdn.pydata.org/bokeh/release/bokeh-gl-1.4.0.min.js\"];\n",
       "  var css_urls = [];\n",
       "  \n",
       "\n",
       "  var inline_js = [\n",
       "    function(Bokeh) {\n",
       "      Bokeh.set_log_level(\"info\");\n",
       "    },\n",
       "    function(Bokeh) {\n",
       "    \n",
       "    \n",
       "    }\n",
       "  ];\n",
       "\n",
       "  function run_inline_js() {\n",
       "    \n",
       "    if (root.Bokeh !== undefined || force === true) {\n",
       "      \n",
       "    for (var i = 0; i < inline_js.length; i++) {\n",
       "      inline_js[i].call(root, root.Bokeh);\n",
       "    }\n",
       "    if (force === true) {\n",
       "        display_loaded();\n",
       "      }} else if (Date.now() < root._bokeh_timeout) {\n",
       "      setTimeout(run_inline_js, 100);\n",
       "    } else if (!root._bokeh_failed_load) {\n",
       "      console.log(\"Bokeh: BokehJS failed to load within specified timeout.\");\n",
       "      root._bokeh_failed_load = true;\n",
       "    } else if (force !== true) {\n",
       "      var cell = $(document.getElementById(\"1008\")).parents('.cell').data().cell;\n",
       "      cell.output_area.append_execute_result(NB_LOAD_WARNING)\n",
       "    }\n",
       "\n",
       "  }\n",
       "\n",
       "  if (root._bokeh_is_loading === 0) {\n",
       "    console.debug(\"Bokeh: BokehJS loaded, going straight to plotting\");\n",
       "    run_inline_js();\n",
       "  } else {\n",
       "    load_libs(css_urls, js_urls, function() {\n",
       "      console.debug(\"Bokeh: BokehJS plotting callback run at\", now());\n",
       "      run_inline_js();\n",
       "    });\n",
       "  }\n",
       "}(window));"
      ],
      "application/vnd.bokehjs_load.v0+json": "\n(function(root) {\n  function now() {\n    return new Date();\n  }\n\n  var force = true;\n\n  if (typeof root._bokeh_onload_callbacks === \"undefined\" || force === true) {\n    root._bokeh_onload_callbacks = [];\n    root._bokeh_is_loading = undefined;\n  }\n\n  \n\n  \n  if (typeof (root._bokeh_timeout) === \"undefined\" || force === true) {\n    root._bokeh_timeout = Date.now() + 5000;\n    root._bokeh_failed_load = false;\n  }\n\n  var NB_LOAD_WARNING = {'data': {'text/html':\n     \"<div style='background-color: #fdd'>\\n\"+\n     \"<p>\\n\"+\n     \"BokehJS does not appear to have successfully loaded. If loading BokehJS from CDN, this \\n\"+\n     \"may be due to a slow or bad network connection. Possible fixes:\\n\"+\n     \"</p>\\n\"+\n     \"<ul>\\n\"+\n     \"<li>re-rerun `output_notebook()` to attempt to load from CDN again, or</li>\\n\"+\n     \"<li>use INLINE resources instead, as so:</li>\\n\"+\n     \"</ul>\\n\"+\n     \"<code>\\n\"+\n     \"from bokeh.resources import INLINE\\n\"+\n     \"output_notebook(resources=INLINE)\\n\"+\n     \"</code>\\n\"+\n     \"</div>\"}};\n\n  function display_loaded() {\n    var el = document.getElementById(\"1008\");\n    if (el != null) {\n      el.textContent = \"BokehJS is loading...\";\n    }\n    if (root.Bokeh !== undefined) {\n      if (el != null) {\n        el.textContent = \"BokehJS \" + root.Bokeh.version + \" successfully loaded.\";\n      }\n    } else if (Date.now() < root._bokeh_timeout) {\n      setTimeout(display_loaded, 100)\n    }\n  }\n\n\n  function run_callbacks() {\n    try {\n      root._bokeh_onload_callbacks.forEach(function(callback) {\n        if (callback != null)\n          callback();\n      });\n    } finally {\n      delete root._bokeh_onload_callbacks\n    }\n    console.debug(\"Bokeh: all callbacks have finished\");\n  }\n\n  function load_libs(css_urls, js_urls, callback) {\n    if (css_urls == null) css_urls = [];\n    if (js_urls == null) js_urls = [];\n\n    root._bokeh_onload_callbacks.push(callback);\n    if (root._bokeh_is_loading > 0) {\n      console.debug(\"Bokeh: BokehJS is being loaded, scheduling callback at\", now());\n      return null;\n    }\n    if (js_urls == null || js_urls.length === 0) {\n      run_callbacks();\n      return null;\n    }\n    console.debug(\"Bokeh: BokehJS not loaded, scheduling load and callback at\", now());\n    root._bokeh_is_loading = css_urls.length + js_urls.length;\n\n    function on_load() {\n      root._bokeh_is_loading--;\n      if (root._bokeh_is_loading === 0) {\n        console.debug(\"Bokeh: all BokehJS libraries/stylesheets loaded\");\n        run_callbacks()\n      }\n    }\n\n    function on_error() {\n      console.error(\"failed to load \" + url);\n    }\n\n    for (var i = 0; i < css_urls.length; i++) {\n      var url = css_urls[i];\n      const element = document.createElement(\"link\");\n      element.onload = on_load;\n      element.onerror = on_error;\n      element.rel = \"stylesheet\";\n      element.type = \"text/css\";\n      element.href = url;\n      console.debug(\"Bokeh: injecting link tag for BokehJS stylesheet: \", url);\n      document.body.appendChild(element);\n    }\n\n    for (var i = 0; i < js_urls.length; i++) {\n      var url = js_urls[i];\n      var element = document.createElement('script');\n      element.onload = on_load;\n      element.onerror = on_error;\n      element.async = false;\n      element.src = url;\n      console.debug(\"Bokeh: injecting script tag for BokehJS library: \", url);\n      document.head.appendChild(element);\n    }\n  };var element = document.getElementById(\"1008\");\n  if (element == null) {\n    console.error(\"Bokeh: ERROR: autoload.js configured with elementid '1008' but no matching script tag was found. \")\n    return false;\n  }\n\n  function inject_raw_css(css) {\n    const element = document.createElement(\"style\");\n    element.appendChild(document.createTextNode(css));\n    document.body.appendChild(element);\n  }\n\n  \n  var js_urls = [\"https://cdn.pydata.org/bokeh/release/bokeh-1.4.0.min.js\", \"https://cdn.pydata.org/bokeh/release/bokeh-widgets-1.4.0.min.js\", \"https://cdn.pydata.org/bokeh/release/bokeh-tables-1.4.0.min.js\", \"https://cdn.pydata.org/bokeh/release/bokeh-gl-1.4.0.min.js\"];\n  var css_urls = [];\n  \n\n  var inline_js = [\n    function(Bokeh) {\n      Bokeh.set_log_level(\"info\");\n    },\n    function(Bokeh) {\n    \n    \n    }\n  ];\n\n  function run_inline_js() {\n    \n    if (root.Bokeh !== undefined || force === true) {\n      \n    for (var i = 0; i < inline_js.length; i++) {\n      inline_js[i].call(root, root.Bokeh);\n    }\n    if (force === true) {\n        display_loaded();\n      }} else if (Date.now() < root._bokeh_timeout) {\n      setTimeout(run_inline_js, 100);\n    } else if (!root._bokeh_failed_load) {\n      console.log(\"Bokeh: BokehJS failed to load within specified timeout.\");\n      root._bokeh_failed_load = true;\n    } else if (force !== true) {\n      var cell = $(document.getElementById(\"1008\")).parents('.cell').data().cell;\n      cell.output_area.append_execute_result(NB_LOAD_WARNING)\n    }\n\n  }\n\n  if (root._bokeh_is_loading === 0) {\n    console.debug(\"Bokeh: BokehJS loaded, going straight to plotting\");\n    run_inline_js();\n  } else {\n    load_libs(css_urls, js_urls, function() {\n      console.debug(\"Bokeh: BokehJS plotting callback run at\", now());\n      run_inline_js();\n    });\n  }\n}(window));"
     },
     "metadata": {},
     "output_type": "display_data"
    }
   ],
   "source": [
    "from bokeh.plotting import figure, output_file, show\n",
    "from bokeh.models import ColumnDataSource\n",
    "from bokeh.models.tools import HoverTool\n",
    "from bokeh.palettes import Spectral10\n",
    "from bokeh.io import output_notebook, push_notebook\n",
    "output_notebook()\n",
    "output_file('example.html')\n"
   ]
  },
  {
   "cell_type": "code",
   "execution_count": 54,
   "metadata": {},
   "outputs": [
    {
     "data": {
      "text/html": [
       "<div>\n",
       "<style scoped>\n",
       "    .dataframe tbody tr th:only-of-type {\n",
       "        vertical-align: middle;\n",
       "    }\n",
       "\n",
       "    .dataframe tbody tr th {\n",
       "        vertical-align: top;\n",
       "    }\n",
       "\n",
       "    .dataframe thead th {\n",
       "        text-align: right;\n",
       "    }\n",
       "</style>\n",
       "<table border=\"1\" class=\"dataframe\">\n",
       "  <thead>\n",
       "    <tr style=\"text-align: right;\">\n",
       "      <th></th>\n",
       "      <th>ip</th>\n",
       "      <th>cpuidle</th>\n",
       "      <th>memtotal</th>\n",
       "      <th>memused</th>\n",
       "      <th>rx</th>\n",
       "      <th>tx</th>\n",
       "      <th>rootrate</th>\n",
       "      <th>ioawait</th>\n",
       "      <th>ioutil</th>\n",
       "      <th>memutils</th>\n",
       "    </tr>\n",
       "    <tr>\n",
       "      <th>date</th>\n",
       "      <th></th>\n",
       "      <th></th>\n",
       "      <th></th>\n",
       "      <th></th>\n",
       "      <th></th>\n",
       "      <th></th>\n",
       "      <th></th>\n",
       "      <th></th>\n",
       "      <th></th>\n",
       "      <th></th>\n",
       "    </tr>\n",
       "  </thead>\n",
       "  <tbody>\n",
       "    <tr>\n",
       "      <th>2020-02-23 22:10:02</th>\n",
       "      <td>192.168.10.23</td>\n",
       "      <td>41.3</td>\n",
       "      <td>115572872</td>\n",
       "      <td>90595360</td>\n",
       "      <td>1005</td>\n",
       "      <td>253</td>\n",
       "      <td>67</td>\n",
       "      <td>1.66</td>\n",
       "      <td>0.07</td>\n",
       "      <td>78.39</td>\n",
       "    </tr>\n",
       "    <tr>\n",
       "      <th>2020-02-23 22:10:03</th>\n",
       "      <td>192.168.10.92</td>\n",
       "      <td>46.0</td>\n",
       "      <td>8168864</td>\n",
       "      <td>3846048</td>\n",
       "      <td>95167</td>\n",
       "      <td>129432</td>\n",
       "      <td>71</td>\n",
       "      <td>3.51</td>\n",
       "      <td>56.01</td>\n",
       "      <td>47.08</td>\n",
       "    </tr>\n",
       "    <tr>\n",
       "      <th>2020-02-23 22:15:02</th>\n",
       "      <td>192.168.10.30</td>\n",
       "      <td>93.8</td>\n",
       "      <td>65955588</td>\n",
       "      <td>65264088</td>\n",
       "      <td>12110</td>\n",
       "      <td>117974</td>\n",
       "      <td>67</td>\n",
       "      <td>3.05</td>\n",
       "      <td>0.22</td>\n",
       "      <td>98.95</td>\n",
       "    </tr>\n",
       "    <tr>\n",
       "      <th>2020-02-23 22:15:03</th>\n",
       "      <td>192.168.10.23</td>\n",
       "      <td>41.3</td>\n",
       "      <td>115572872</td>\n",
       "      <td>90590608</td>\n",
       "      <td>922</td>\n",
       "      <td>324</td>\n",
       "      <td>67</td>\n",
       "      <td>1.66</td>\n",
       "      <td>0.07</td>\n",
       "      <td>78.38</td>\n",
       "    </tr>\n",
       "    <tr>\n",
       "      <th>2020-02-23 22:15:03</th>\n",
       "      <td>192.168.10.92</td>\n",
       "      <td>2.1</td>\n",
       "      <td>8168864</td>\n",
       "      <td>3847224</td>\n",
       "      <td>51386</td>\n",
       "      <td>83148</td>\n",
       "      <td>71</td>\n",
       "      <td>3.51</td>\n",
       "      <td>56.01</td>\n",
       "      <td>78.38</td>\n",
       "    </tr>\n",
       "  </tbody>\n",
       "</table>\n",
       "</div>"
      ],
      "text/plain": [
       "                                ip  cpuidle   memtotal   memused     rx  \\\n",
       "date                                                                      \n",
       "2020-02-23 22:10:02  192.168.10.23     41.3  115572872  90595360   1005   \n",
       "2020-02-23 22:10:03  192.168.10.92     46.0    8168864   3846048  95167   \n",
       "2020-02-23 22:15:02  192.168.10.30     93.8   65955588  65264088  12110   \n",
       "2020-02-23 22:15:03  192.168.10.23     41.3  115572872  90590608    922   \n",
       "2020-02-23 22:15:03  192.168.10.92      2.1    8168864   3847224  51386   \n",
       "\n",
       "                         tx  rootrate  ioawait  ioutil  memutils  \n",
       "date                                                              \n",
       "2020-02-23 22:10:02     253        67     1.66    0.07     78.39  \n",
       "2020-02-23 22:10:03  129432        71     3.51   56.01     47.08  \n",
       "2020-02-23 22:15:02  117974        67     3.05    0.22     98.95  \n",
       "2020-02-23 22:15:03     324        67     1.66    0.07     78.38  \n",
       "2020-02-23 22:15:03   83148        71     3.51   56.01     78.38  "
      ]
     },
     "execution_count": 54,
     "metadata": {},
     "output_type": "execute_result"
    }
   ],
   "source": [
    "df[:5]"
   ]
  },
  {
   "cell_type": "markdown",
   "metadata": {},
   "source": [
    "### １.先画个最简单的，单个ip的cpuidle：\n"
   ]
  },
  {
   "cell_type": "code",
   "execution_count": 59,
   "metadata": {},
   "outputs": [
    {
     "data": {
      "text/html": [
       "<div>\n",
       "<style scoped>\n",
       "    .dataframe tbody tr th:only-of-type {\n",
       "        vertical-align: middle;\n",
       "    }\n",
       "\n",
       "    .dataframe tbody tr th {\n",
       "        vertical-align: top;\n",
       "    }\n",
       "\n",
       "    .dataframe thead th {\n",
       "        text-align: right;\n",
       "    }\n",
       "</style>\n",
       "<table border=\"1\" class=\"dataframe\">\n",
       "  <thead>\n",
       "    <tr style=\"text-align: right;\">\n",
       "      <th></th>\n",
       "      <th>date</th>\n",
       "      <th>cpuidle</th>\n",
       "    </tr>\n",
       "  </thead>\n",
       "  <tbody>\n",
       "    <tr>\n",
       "      <th>0</th>\n",
       "      <td>2020-02-23</td>\n",
       "      <td>86.565333</td>\n",
       "    </tr>\n",
       "    <tr>\n",
       "      <th>1</th>\n",
       "      <td>2020-02-24</td>\n",
       "      <td>88.546531</td>\n",
       "    </tr>\n",
       "    <tr>\n",
       "      <th>2</th>\n",
       "      <td>2020-02-25</td>\n",
       "      <td>87.010410</td>\n",
       "    </tr>\n",
       "    <tr>\n",
       "      <th>3</th>\n",
       "      <td>2020-02-26</td>\n",
       "      <td>86.979723</td>\n",
       "    </tr>\n",
       "  </tbody>\n",
       "</table>\n",
       "</div>"
      ],
      "text/plain": [
       "        date    cpuidle\n",
       "0 2020-02-23  86.565333\n",
       "1 2020-02-24  88.546531\n",
       "2 2020-02-25  87.010410\n",
       "3 2020-02-26  86.979723"
      ]
     },
     "execution_count": 59,
     "metadata": {},
     "output_type": "execute_result"
    }
   ],
   "source": [
    "#单个ip的cpuidle：\n",
    "grouped=df.loc[(df['ip']=='192.168.10.171' ),['cpuidle']].resample('D').mean().reset_index()\n",
    "source = ColumnDataSource(grouped)\n",
    "grouped[:4]"
   ]
  },
  {
   "cell_type": "code",
   "execution_count": 60,
   "metadata": {},
   "outputs": [
    {
     "data": {
      "text/html": [
       "\n",
       "\n",
       "\n",
       "\n",
       "\n",
       "\n",
       "  <div class=\"bk-root\" id=\"4872343b-1d79-4650-9c79-93b41dd6dc64\" data-root-id=\"2720\"></div>\n"
      ]
     },
     "metadata": {},
     "output_type": "display_data"
    },
    {
     "data": {
      "application/javascript": [
       "(function(root) {\n",
       "  function embed_document(root) {\n",
       "    \n",
       "  var docs_json = {\"9b7da8e5-86e0-46fa-9abd-3be5c6e228cd\":{\"roots\":{\"references\":[{\"attributes\":{\"below\":[{\"id\":\"2729\",\"type\":\"DatetimeAxis\"}],\"center\":[{\"id\":\"2733\",\"type\":\"Grid\"},{\"id\":\"2738\",\"type\":\"Grid\"},{\"id\":\"2776\",\"type\":\"Legend\"}],\"left\":[{\"id\":\"2734\",\"type\":\"LinearAxis\"}],\"renderers\":[{\"id\":\"2755\",\"type\":\"GlyphRenderer\"}],\"title\":{\"id\":\"2757\",\"type\":\"Title\"},\"toolbar\":{\"id\":\"2745\",\"type\":\"Toolbar\"},\"x_range\":{\"id\":\"2721\",\"type\":\"DataRange1d\"},\"x_scale\":{\"id\":\"2725\",\"type\":\"LinearScale\"},\"y_range\":{\"id\":\"2723\",\"type\":\"DataRange1d\"},\"y_scale\":{\"id\":\"2727\",\"type\":\"LinearScale\"}},\"id\":\"2720\",\"subtype\":\"Figure\",\"type\":\"Plot\"},{\"attributes\":{\"base\":60,\"mantissas\":[1,2,5,10,15,20,30],\"max_interval\":1800000.0,\"min_interval\":1000.0,\"num_minor_ticks\":0},\"id\":\"2764\",\"type\":\"AdaptiveTicker\"},{\"attributes\":{\"bottom_units\":\"screen\",\"fill_alpha\":{\"value\":0.5},\"fill_color\":{\"value\":\"lightgrey\"},\"left_units\":\"screen\",\"level\":\"overlay\",\"line_alpha\":{\"value\":1.0},\"line_color\":{\"value\":\"black\"},\"line_dash\":[4,4],\"line_width\":{\"value\":2},\"render_mode\":\"css\",\"right_units\":\"screen\",\"top_units\":\"screen\"},\"id\":\"2775\",\"type\":\"BoxAnnotation\"},{\"attributes\":{\"active_drag\":\"auto\",\"active_inspect\":\"auto\",\"active_multi\":null,\"active_scroll\":\"auto\",\"active_tap\":\"auto\",\"tools\":[{\"id\":\"2739\",\"type\":\"PanTool\"},{\"id\":\"2740\",\"type\":\"WheelZoomTool\"},{\"id\":\"2741\",\"type\":\"BoxZoomTool\"},{\"id\":\"2742\",\"type\":\"SaveTool\"},{\"id\":\"2743\",\"type\":\"ResetTool\"},{\"id\":\"2744\",\"type\":\"HelpTool\"}]},\"id\":\"2745\",\"type\":\"Toolbar\"},{\"attributes\":{\"callback\":null},\"id\":\"2721\",\"type\":\"DataRange1d\"},{\"attributes\":{\"base\":24,\"mantissas\":[1,2,4,6,8,12],\"max_interval\":43200000.0,\"min_interval\":3600000.0,\"num_minor_ticks\":0},\"id\":\"2765\",\"type\":\"AdaptiveTicker\"},{\"attributes\":{\"text\":\"\"},\"id\":\"2757\",\"type\":\"Title\"},{\"attributes\":{\"ticker\":{\"id\":\"2730\",\"type\":\"DatetimeTicker\"}},\"id\":\"2733\",\"type\":\"Grid\"},{\"attributes\":{\"callback\":null},\"id\":\"2723\",\"type\":\"DataRange1d\"},{\"attributes\":{},\"id\":\"2735\",\"type\":\"BasicTicker\"},{\"attributes\":{\"axis_label\":\"cpuidle\",\"formatter\":{\"id\":\"2759\",\"type\":\"BasicTickFormatter\"},\"ticker\":{\"id\":\"2735\",\"type\":\"BasicTicker\"}},\"id\":\"2734\",\"type\":\"LinearAxis\"},{\"attributes\":{\"items\":[{\"id\":\"2777\",\"type\":\"LegendItem\"}]},\"id\":\"2776\",\"type\":\"Legend\"},{\"attributes\":{},\"id\":\"2761\",\"type\":\"DatetimeTickFormatter\"},{\"attributes\":{},\"id\":\"2744\",\"type\":\"HelpTool\"},{\"attributes\":{\"num_minor_ticks\":5,\"tickers\":[{\"id\":\"2763\",\"type\":\"AdaptiveTicker\"},{\"id\":\"2764\",\"type\":\"AdaptiveTicker\"},{\"id\":\"2765\",\"type\":\"AdaptiveTicker\"},{\"id\":\"2766\",\"type\":\"DaysTicker\"},{\"id\":\"2767\",\"type\":\"DaysTicker\"},{\"id\":\"2768\",\"type\":\"DaysTicker\"},{\"id\":\"2769\",\"type\":\"DaysTicker\"},{\"id\":\"2770\",\"type\":\"MonthsTicker\"},{\"id\":\"2771\",\"type\":\"MonthsTicker\"},{\"id\":\"2772\",\"type\":\"MonthsTicker\"},{\"id\":\"2773\",\"type\":\"MonthsTicker\"},{\"id\":\"2774\",\"type\":\"YearsTicker\"}]},\"id\":\"2730\",\"type\":\"DatetimeTicker\"},{\"attributes\":{\"formatter\":{\"id\":\"2761\",\"type\":\"DatetimeTickFormatter\"},\"ticker\":{\"id\":\"2730\",\"type\":\"DatetimeTicker\"}},\"id\":\"2729\",\"type\":\"DatetimeAxis\"},{\"attributes\":{},\"id\":\"2847\",\"type\":\"UnionRenderers\"},{\"attributes\":{\"days\":[1,2,3,4,5,6,7,8,9,10,11,12,13,14,15,16,17,18,19,20,21,22,23,24,25,26,27,28,29,30,31]},\"id\":\"2766\",\"type\":\"DaysTicker\"},{\"attributes\":{\"source\":{\"id\":\"2719\",\"type\":\"ColumnDataSource\"}},\"id\":\"2756\",\"type\":\"CDSView\"},{\"attributes\":{\"days\":[1,4,7,10,13,16,19,22,25,28]},\"id\":\"2767\",\"type\":\"DaysTicker\"},{\"attributes\":{\"dimension\":1,\"ticker\":{\"id\":\"2735\",\"type\":\"BasicTicker\"}},\"id\":\"2738\",\"type\":\"Grid\"},{\"attributes\":{\"data_source\":{\"id\":\"2719\",\"type\":\"ColumnDataSource\"},\"glyph\":{\"id\":\"2753\",\"type\":\"Line\"},\"hover_glyph\":null,\"muted_glyph\":null,\"nonselection_glyph\":{\"id\":\"2754\",\"type\":\"Line\"},\"selection_glyph\":null,\"view\":{\"id\":\"2756\",\"type\":\"CDSView\"}},\"id\":\"2755\",\"type\":\"GlyphRenderer\"},{\"attributes\":{\"days\":[1,8,15,22]},\"id\":\"2768\",\"type\":\"DaysTicker\"},{\"attributes\":{},\"id\":\"2759\",\"type\":\"BasicTickFormatter\"},{\"attributes\":{},\"id\":\"2739\",\"type\":\"PanTool\"},{\"attributes\":{\"days\":[1,15]},\"id\":\"2769\",\"type\":\"DaysTicker\"},{\"attributes\":{},\"id\":\"2725\",\"type\":\"LinearScale\"},{\"attributes\":{\"callback\":null,\"data\":{\"cpuidle\":{\"__ndarray__\":\"XYDcay6kVUC+dohb+iJWQCHmoo2qwFVAyDcUxrO+VUAEVzLpVh5WQAherrE9GVZApcnRPmAaVkDWfMRLQyNWQAfASpOtL1ZA+LWi6lwQVkA0N0g09hNWQA==\",\"dtype\":\"float64\",\"shape\":[11]},\"date\":{\"__ndarray__\":\"AABAf/UGd0IAAADlRwd3QgAAwEqaB3dCAACAsOwHd0IAAEAWPwh3QgAAAHyRCHdCAADA4eMId0IAAIBHNgl3QgAAQK2ICXdCAAAAE9sJd0IAAMB4LQp3Qg==\",\"dtype\":\"float64\",\"shape\":[11]},\"index\":[0,1,2,3,4,5,6,7,8,9,10]},\"selected\":{\"id\":\"2846\",\"type\":\"Selection\"},\"selection_policy\":{\"id\":\"2847\",\"type\":\"UnionRenderers\"}},\"id\":\"2719\",\"type\":\"ColumnDataSource\"},{\"attributes\":{},\"id\":\"2740\",\"type\":\"WheelZoomTool\"},{\"attributes\":{\"mantissas\":[1,2,5],\"max_interval\":500.0,\"num_minor_ticks\":0},\"id\":\"2763\",\"type\":\"AdaptiveTicker\"},{\"attributes\":{},\"id\":\"2846\",\"type\":\"Selection\"},{\"attributes\":{\"months\":[0,1,2,3,4,5,6,7,8,9,10,11]},\"id\":\"2770\",\"type\":\"MonthsTicker\"},{\"attributes\":{\"overlay\":{\"id\":\"2775\",\"type\":\"BoxAnnotation\"}},\"id\":\"2741\",\"type\":\"BoxZoomTool\"},{\"attributes\":{\"months\":[0,2,4,6,8,10]},\"id\":\"2771\",\"type\":\"MonthsTicker\"},{\"attributes\":{},\"id\":\"2774\",\"type\":\"YearsTicker\"},{\"attributes\":{\"line_alpha\":0.1,\"line_color\":\"#1f77b4\",\"line_width\":2,\"x\":{\"field\":\"date\"},\"y\":{\"field\":\"cpuidle\"}},\"id\":\"2754\",\"type\":\"Line\"},{\"attributes\":{},\"id\":\"2742\",\"type\":\"SaveTool\"},{\"attributes\":{\"months\":[0,4,8]},\"id\":\"2772\",\"type\":\"MonthsTicker\"},{\"attributes\":{},\"id\":\"2727\",\"type\":\"LinearScale\"},{\"attributes\":{\"label\":{\"value\":\"171\"},\"renderers\":[{\"id\":\"2755\",\"type\":\"GlyphRenderer\"}]},\"id\":\"2777\",\"type\":\"LegendItem\"},{\"attributes\":{},\"id\":\"2743\",\"type\":\"ResetTool\"},{\"attributes\":{\"months\":[0,6]},\"id\":\"2773\",\"type\":\"MonthsTicker\"},{\"attributes\":{\"line_color\":\"#1f77b4\",\"line_width\":2,\"x\":{\"field\":\"date\"},\"y\":{\"field\":\"cpuidle\"}},\"id\":\"2753\",\"type\":\"Line\"}],\"root_ids\":[\"2720\"]},\"title\":\"Bokeh Application\",\"version\":\"1.4.0\"}};\n",
       "  var render_items = [{\"docid\":\"9b7da8e5-86e0-46fa-9abd-3be5c6e228cd\",\"roots\":{\"2720\":\"4872343b-1d79-4650-9c79-93b41dd6dc64\"}}];\n",
       "  root.Bokeh.embed.embed_items_notebook(docs_json, render_items);\n",
       "\n",
       "  }\n",
       "  if (root.Bokeh !== undefined) {\n",
       "    embed_document(root);\n",
       "  } else {\n",
       "    var attempts = 0;\n",
       "    var timer = setInterval(function(root) {\n",
       "      if (root.Bokeh !== undefined) {\n",
       "        clearInterval(timer);\n",
       "        embed_document(root);\n",
       "      } else {\n",
       "        attempts++;\n",
       "        if (attempts > 100) {\n",
       "          clearInterval(timer);\n",
       "          console.log(\"Bokeh: ERROR: Unable to run BokehJS code because BokehJS library is missing\");\n",
       "        }\n",
       "      }\n",
       "    }, 10, root)\n",
       "  }\n",
       "})(window);"
      ],
      "application/vnd.bokehjs_exec.v0+json": ""
     },
     "metadata": {
      "application/vnd.bokehjs_exec.v0+json": {
       "id": "2720"
      }
     },
     "output_type": "display_data"
    }
   ],
   "source": [
    "p = figure(x_axis_type='datetime')\n",
    "p.line(x='date', y='cpuidle', line_width=2, source=source, legend_label='171')\n",
    "p.yaxis.axis_label = 'cpuidle'\n",
    "show(p)"
   ]
  },
  {
   "cell_type": "markdown",
   "metadata": {},
   "source": [
    "### 2.加上其它ip"
   ]
  },
  {
   "cell_type": "code",
   "execution_count": 61,
   "metadata": {},
   "outputs": [
    {
     "data": {
      "text/html": [
       "\n",
       "\n",
       "\n",
       "\n",
       "\n",
       "\n",
       "  <div class=\"bk-root\" id=\"2b5feef2-1d89-4f97-a858-86231d805912\" data-root-id=\"3261\"></div>\n"
      ]
     },
     "metadata": {},
     "output_type": "display_data"
    },
    {
     "data": {
      "application/javascript": [
       "(function(root) {\n",
       "  function embed_document(root) {\n",
       "    \n",
       "  var docs_json = {\"9d432663-3aa5-4457-ac29-5593c6011454\":{\"roots\":{\"references\":[{\"attributes\":{\"below\":[{\"id\":\"3270\",\"type\":\"DatetimeAxis\"}],\"center\":[{\"id\":\"3274\",\"type\":\"Grid\"},{\"id\":\"3279\",\"type\":\"Grid\"},{\"id\":\"3318\",\"type\":\"Legend\"}],\"left\":[{\"id\":\"3275\",\"type\":\"LinearAxis\"}],\"renderers\":[{\"id\":\"3297\",\"type\":\"GlyphRenderer\"},{\"id\":\"3324\",\"type\":\"GlyphRenderer\"},{\"id\":\"3352\",\"type\":\"GlyphRenderer\"},{\"id\":\"3382\",\"type\":\"GlyphRenderer\"},{\"id\":\"3414\",\"type\":\"GlyphRenderer\"},{\"id\":\"3448\",\"type\":\"GlyphRenderer\"},{\"id\":\"3484\",\"type\":\"GlyphRenderer\"},{\"id\":\"3522\",\"type\":\"GlyphRenderer\"},{\"id\":\"3562\",\"type\":\"GlyphRenderer\"},{\"id\":\"3604\",\"type\":\"GlyphRenderer\"},{\"id\":\"3648\",\"type\":\"GlyphRenderer\"}],\"title\":{\"id\":\"3299\",\"type\":\"Title\"},\"toolbar\":{\"id\":\"3286\",\"type\":\"Toolbar\"},\"x_range\":{\"id\":\"3262\",\"type\":\"DataRange1d\"},\"x_scale\":{\"id\":\"3266\",\"type\":\"LinearScale\"},\"y_range\":{\"id\":\"3264\",\"type\":\"DataRange1d\"},\"y_scale\":{\"id\":\"3268\",\"type\":\"LinearScale\"}},\"id\":\"3261\",\"subtype\":\"Figure\",\"type\":\"Plot\"},{\"attributes\":{\"line_alpha\":0.1,\"line_color\":\"#1f77b4\",\"line_width\":2,\"x\":{\"field\":\"date\"},\"y\":{\"field\":\"cpuidle\"}},\"id\":\"3296\",\"type\":\"Line\"},{\"attributes\":{\"active_drag\":\"auto\",\"active_inspect\":\"auto\",\"active_multi\":null,\"active_scroll\":\"auto\",\"active_tap\":\"auto\",\"tools\":[{\"id\":\"3280\",\"type\":\"PanTool\"},{\"id\":\"3281\",\"type\":\"WheelZoomTool\"},{\"id\":\"3282\",\"type\":\"BoxZoomTool\"},{\"id\":\"3283\",\"type\":\"SaveTool\"},{\"id\":\"3284\",\"type\":\"ResetTool\"},{\"id\":\"3285\",\"type\":\"HelpTool\"}]},\"id\":\"3286\",\"type\":\"Toolbar\"},{\"attributes\":{\"source\":{\"id\":\"3378\",\"type\":\"ColumnDataSource\"}},\"id\":\"3383\",\"type\":\"CDSView\"},{\"attributes\":{\"line_alpha\":0.1,\"line_color\":\"#1f77b4\",\"line_width\":2,\"x\":{\"field\":\"date\"},\"y\":{\"field\":\"cpuidle\"}},\"id\":\"3351\",\"type\":\"Line\"},{\"attributes\":{\"label\":{\"value\":\"192.168.10.94\"},\"renderers\":[{\"id\":\"3382\",\"type\":\"GlyphRenderer\"}]},\"id\":\"3409\",\"type\":\"LegendItem\"},{\"attributes\":{\"data_source\":{\"id\":\"3378\",\"type\":\"ColumnDataSource\"},\"glyph\":{\"id\":\"3380\",\"type\":\"Line\"},\"hover_glyph\":null,\"muted_glyph\":null,\"nonselection_glyph\":{\"id\":\"3381\",\"type\":\"Line\"},\"selection_glyph\":null,\"view\":{\"id\":\"3383\",\"type\":\"CDSView\"}},\"id\":\"3382\",\"type\":\"GlyphRenderer\"},{\"attributes\":{\"source\":{\"id\":\"3320\",\"type\":\"ColumnDataSource\"}},\"id\":\"3325\",\"type\":\"CDSView\"},{\"attributes\":{},\"id\":\"3280\",\"type\":\"PanTool\"},{\"attributes\":{},\"id\":\"3281\",\"type\":\"WheelZoomTool\"},{\"attributes\":{},\"id\":\"3362\",\"type\":\"Selection\"},{\"attributes\":{\"label\":{\"value\":\"192.168.10.30\"},\"renderers\":[{\"id\":\"3352\",\"type\":\"GlyphRenderer\"}]},\"id\":\"3377\",\"type\":\"LegendItem\"},{\"attributes\":{\"overlay\":{\"id\":\"3317\",\"type\":\"BoxAnnotation\"}},\"id\":\"3282\",\"type\":\"BoxZoomTool\"},{\"attributes\":{},\"id\":\"3394\",\"type\":\"Selection\"},{\"attributes\":{\"callback\":null},\"id\":\"3262\",\"type\":\"DataRange1d\"},{\"attributes\":{\"dimension\":1,\"ticker\":{\"id\":\"3276\",\"type\":\"BasicTicker\"}},\"id\":\"3279\",\"type\":\"Grid\"},{\"attributes\":{},\"id\":\"3283\",\"type\":\"SaveTool\"},{\"attributes\":{\"data_source\":{\"id\":\"3410\",\"type\":\"ColumnDataSource\"},\"glyph\":{\"id\":\"3412\",\"type\":\"Line\"},\"hover_glyph\":null,\"muted_glyph\":null,\"nonselection_glyph\":{\"id\":\"3413\",\"type\":\"Line\"},\"selection_glyph\":null,\"view\":{\"id\":\"3415\",\"type\":\"CDSView\"}},\"id\":\"3414\",\"type\":\"GlyphRenderer\"},{\"attributes\":{},\"id\":\"3284\",\"type\":\"ResetTool\"},{\"attributes\":{},\"id\":\"3363\",\"type\":\"UnionRenderers\"},{\"attributes\":{\"data_source\":{\"id\":\"3320\",\"type\":\"ColumnDataSource\"},\"glyph\":{\"id\":\"3322\",\"type\":\"Line\"},\"hover_glyph\":null,\"muted_glyph\":null,\"nonselection_glyph\":{\"id\":\"3323\",\"type\":\"Line\"},\"selection_glyph\":null,\"view\":{\"id\":\"3325\",\"type\":\"CDSView\"}},\"id\":\"3324\",\"type\":\"GlyphRenderer\"},{\"attributes\":{\"line_color\":\"#3288bd\",\"line_width\":2,\"x\":{\"field\":\"date\"},\"y\":{\"field\":\"cpuidle\"}},\"id\":\"3295\",\"type\":\"Line\"},{\"attributes\":{\"source\":{\"id\":\"3348\",\"type\":\"ColumnDataSource\"}},\"id\":\"3353\",\"type\":\"CDSView\"},{\"attributes\":{},\"id\":\"3285\",\"type\":\"HelpTool\"},{\"attributes\":{\"callback\":null},\"id\":\"3264\",\"type\":\"DataRange1d\"},{\"attributes\":{\"source\":{\"id\":\"3293\",\"type\":\"ColumnDataSource\"}},\"id\":\"3298\",\"type\":\"CDSView\"},{\"attributes\":{\"line_color\":\"#fee08b\",\"line_width\":2,\"x\":{\"field\":\"date\"},\"y\":{\"field\":\"cpuidle\"}},\"id\":\"3412\",\"type\":\"Line\"},{\"attributes\":{\"data_source\":{\"id\":\"3348\",\"type\":\"ColumnDataSource\"},\"glyph\":{\"id\":\"3350\",\"type\":\"Line\"},\"hover_glyph\":null,\"muted_glyph\":null,\"nonselection_glyph\":{\"id\":\"3351\",\"type\":\"Line\"},\"selection_glyph\":null,\"view\":{\"id\":\"3353\",\"type\":\"CDSView\"}},\"id\":\"3352\",\"type\":\"GlyphRenderer\"},{\"attributes\":{\"source\":{\"id\":\"3444\",\"type\":\"ColumnDataSource\"}},\"id\":\"3449\",\"type\":\"CDSView\"},{\"attributes\":{\"data_source\":{\"id\":\"3444\",\"type\":\"ColumnDataSource\"},\"glyph\":{\"id\":\"3446\",\"type\":\"Line\"},\"hover_glyph\":null,\"muted_glyph\":null,\"nonselection_glyph\":{\"id\":\"3447\",\"type\":\"Line\"},\"selection_glyph\":null,\"view\":{\"id\":\"3449\",\"type\":\"CDSView\"}},\"id\":\"3448\",\"type\":\"GlyphRenderer\"},{\"attributes\":{\"text\":\"\"},\"id\":\"3299\",\"type\":\"Title\"},{\"attributes\":{\"callback\":null,\"data\":{\"cpuidle\":{\"__ndarray__\":\"gXmi/o0wVEDYl6IBcChUQBnkQDm85VNAmS8VtPpJVEBHNYWj9atTQJE6uwcPFlVAEAu/W5sGVUAwsRUY1QhVQJn/jFOyCFVAR0VdNynUVEA2o/uoYJlUQA==\",\"dtype\":\"float64\",\"shape\":[11]},\"date\":{\"__ndarray__\":\"AABAf/UGd0IAAADlRwd3QgAAwEqaB3dCAACAsOwHd0IAAEAWPwh3QgAAAHyRCHdCAADA4eMId0IAAIBHNgl3QgAAQK2ICXdCAAAAE9sJd0IAAMB4LQp3Qg==\",\"dtype\":\"float64\",\"shape\":[11]},\"index\":[0,1,2,3,4,5,6,7,8,9,10]},\"selected\":{\"id\":\"3502\",\"type\":\"Selection\"},\"selection_policy\":{\"id\":\"3503\",\"type\":\"UnionRenderers\"}},\"id\":\"3444\",\"type\":\"ColumnDataSource\"},{\"attributes\":{\"line_color\":\"#e6f598\",\"line_width\":2,\"x\":{\"field\":\"date\"},\"y\":{\"field\":\"cpuidle\"}},\"id\":\"3380\",\"type\":\"Line\"},{\"attributes\":{\"source\":{\"id\":\"3410\",\"type\":\"ColumnDataSource\"}},\"id\":\"3415\",\"type\":\"CDSView\"},{\"attributes\":{},\"id\":\"3301\",\"type\":\"BasicTickFormatter\"},{\"attributes\":{\"line_alpha\":0.1,\"line_color\":\"#1f77b4\",\"line_width\":2,\"x\":{\"field\":\"date\"},\"y\":{\"field\":\"cpuidle\"}},\"id\":\"3413\",\"type\":\"Line\"},{\"attributes\":{\"items\":[{\"id\":\"3319\",\"type\":\"LegendItem\"},{\"id\":\"3347\",\"type\":\"LegendItem\"},{\"id\":\"3377\",\"type\":\"LegendItem\"},{\"id\":\"3409\",\"type\":\"LegendItem\"},{\"id\":\"3443\",\"type\":\"LegendItem\"},{\"id\":\"3479\",\"type\":\"LegendItem\"},{\"id\":\"3517\",\"type\":\"LegendItem\"},{\"id\":\"3557\",\"type\":\"LegendItem\"},{\"id\":\"3599\",\"type\":\"LegendItem\"},{\"id\":\"3643\",\"type\":\"LegendItem\"},{\"id\":\"3689\",\"type\":\"LegendItem\"}]},\"id\":\"3318\",\"type\":\"Legend\"},{\"attributes\":{\"line_alpha\":0.1,\"line_color\":\"#1f77b4\",\"line_width\":2,\"x\":{\"field\":\"date\"},\"y\":{\"field\":\"cpuidle\"}},\"id\":\"3381\",\"type\":\"Line\"},{\"attributes\":{},\"id\":\"3303\",\"type\":\"DatetimeTickFormatter\"},{\"attributes\":{},\"id\":\"3395\",\"type\":\"UnionRenderers\"},{\"attributes\":{},\"id\":\"3428\",\"type\":\"Selection\"},{\"attributes\":{\"base\":24,\"mantissas\":[1,2,4,6,8,12],\"max_interval\":43200000.0,\"min_interval\":3600000.0,\"num_minor_ticks\":0},\"id\":\"3307\",\"type\":\"AdaptiveTicker\"},{\"attributes\":{},\"id\":\"3429\",\"type\":\"UnionRenderers\"},{\"attributes\":{\"mantissas\":[1,2,5],\"max_interval\":500.0,\"num_minor_ticks\":0},\"id\":\"3305\",\"type\":\"AdaptiveTicker\"},{\"attributes\":{\"callback\":null,\"data\":{\"cpuidle\":{\"__ndarray__\":\"OzMzMzNzV0CeMzMzM3NXQJYzMzMzc1dAnDMzMzNzV0CfMzMzM3NXQJwzMzMzc1dAnTMzMzNzV0CdMzMzM3NXQKEzMzMzc1dAoTMzMzNzV0CaMzMzM3NXQA==\",\"dtype\":\"float64\",\"shape\":[11]},\"date\":{\"__ndarray__\":\"AABAf/UGd0IAAADlRwd3QgAAwEqaB3dCAACAsOwHd0IAAEAWPwh3QgAAAHyRCHdCAADA4eMId0IAAIBHNgl3QgAAQK2ICXdCAAAAE9sJd0IAAMB4LQp3Qg==\",\"dtype\":\"float64\",\"shape\":[11]},\"index\":[0,1,2,3,4,5,6,7,8,9,10]},\"selected\":{\"id\":\"3394\",\"type\":\"Selection\"},\"selection_policy\":{\"id\":\"3395\",\"type\":\"UnionRenderers\"}},\"id\":\"3348\",\"type\":\"ColumnDataSource\"},{\"attributes\":{\"base\":60,\"mantissas\":[1,2,5,10,15,20,30],\"max_interval\":1800000.0,\"min_interval\":1000.0,\"num_minor_ticks\":0},\"id\":\"3306\",\"type\":\"AdaptiveTicker\"},{\"attributes\":{\"data_source\":{\"id\":\"3293\",\"type\":\"ColumnDataSource\"},\"glyph\":{\"id\":\"3295\",\"type\":\"Line\"},\"hover_glyph\":null,\"muted_glyph\":null,\"nonselection_glyph\":{\"id\":\"3296\",\"type\":\"Line\"},\"selection_glyph\":null,\"view\":{\"id\":\"3298\",\"type\":\"CDSView\"}},\"id\":\"3297\",\"type\":\"GlyphRenderer\"},{\"attributes\":{\"label\":{\"value\":\"192.168.10.28\"},\"renderers\":[{\"id\":\"3448\",\"type\":\"GlyphRenderer\"}]},\"id\":\"3479\",\"type\":\"LegendItem\"},{\"attributes\":{\"callback\":null,\"data\":{\"cpuidle\":{\"__ndarray__\":\"9Chcj8KtUUDEu7u7u+tRQEB9UFjd8lFA7TvCgIe/UUC8otVLkLJRQCkksDT0fVBAWZMMGv/AUEDhqivwKDFRQOZaI4jnxFBAkHRmdUcFUUDW1BeAsBRRQA==\",\"dtype\":\"float64\",\"shape\":[11]},\"date\":{\"__ndarray__\":\"AABAf/UGd0IAAADlRwd3QgAAwEqaB3dCAACAsOwHd0IAAEAWPwh3QgAAAHyRCHdCAADA4eMId0IAAIBHNgl3QgAAQK2ICXdCAAAAE9sJd0IAAMB4LQp3Qg==\",\"dtype\":\"float64\",\"shape\":[11]},\"index\":[0,1,2,3,4,5,6,7,8,9,10]},\"selected\":{\"id\":\"3674\",\"type\":\"Selection\"},\"selection_policy\":{\"id\":\"3675\",\"type\":\"UnionRenderers\"}},\"id\":\"3600\",\"type\":\"ColumnDataSource\"},{\"attributes\":{\"months\":[0,4,8]},\"id\":\"3314\",\"type\":\"MonthsTicker\"},{\"attributes\":{\"months\":[0,6]},\"id\":\"3315\",\"type\":\"MonthsTicker\"},{\"attributes\":{\"label\":{\"value\":\"192.168.10.23\"},\"renderers\":[{\"id\":\"3297\",\"type\":\"GlyphRenderer\"}]},\"id\":\"3319\",\"type\":\"LegendItem\"},{\"attributes\":{\"label\":{\"value\":\"192.168.10.171\"},\"renderers\":[{\"id\":\"3414\",\"type\":\"GlyphRenderer\"}]},\"id\":\"3443\",\"type\":\"LegendItem\"},{\"attributes\":{\"label\":{\"value\":\"192.168.10.95\"},\"renderers\":[{\"id\":\"3562\",\"type\":\"GlyphRenderer\"}]},\"id\":\"3599\",\"type\":\"LegendItem\"},{\"attributes\":{\"callback\":null,\"data\":{\"cpuidle\":{\"__ndarray__\":\"1Al6WhudRECEiMpKwppEQKiZmZmZmURAj5mZmZmZRECJmZmZmZlEQIqZmZmZmURAgJmZmZmZREAvTQPaNJBEQGPMzMzMjERAZMzMzMyMREBozMzMzIxEQA==\",\"dtype\":\"float64\",\"shape\":[11]},\"date\":{\"__ndarray__\":\"AABAf/UGd0IAAADlRwd3QgAAwEqaB3dCAACAsOwHd0IAAEAWPwh3QgAAAHyRCHdCAADA4eMId0IAAIBHNgl3QgAAQK2ICXdCAAAAE9sJd0IAAMB4LQp3Qg==\",\"dtype\":\"float64\",\"shape\":[11]},\"index\":[0,1,2,3,4,5,6,7,8,9,10]},\"selected\":{\"id\":\"3332\",\"type\":\"Selection\"},\"selection_policy\":{\"id\":\"3333\",\"type\":\"UnionRenderers\"}},\"id\":\"3293\",\"type\":\"ColumnDataSource\"},{\"attributes\":{\"callback\":null,\"data\":{\"cpuidle\":{\"__ndarray__\":\"XYDcay6kVUC+dohb+iJWQCHmoo2qwFVAyDcUxrO+VUAEVzLpVh5WQAherrE9GVZApcnRPmAaVkDWfMRLQyNWQAfASpOtL1ZA+LWi6lwQVkA0N0g09hNWQA==\",\"dtype\":\"float64\",\"shape\":[11]},\"date\":{\"__ndarray__\":\"AABAf/UGd0IAAADlRwd3QgAAwEqaB3dCAACAsOwHd0IAAEAWPwh3QgAAAHyRCHdCAADA4eMId0IAAIBHNgl3QgAAQK2ICXdCAAAAE9sJd0IAAMB4LQp3Qg==\",\"dtype\":\"float64\",\"shape\":[11]},\"index\":[0,1,2,3,4,5,6,7,8,9,10]},\"selected\":{\"id\":\"3464\",\"type\":\"Selection\"},\"selection_policy\":{\"id\":\"3465\",\"type\":\"UnionRenderers\"}},\"id\":\"3410\",\"type\":\"ColumnDataSource\"},{\"attributes\":{\"line_color\":\"#fdae61\",\"line_width\":2,\"x\":{\"field\":\"date\"},\"y\":{\"field\":\"cpuidle\"}},\"id\":\"3446\",\"type\":\"Line\"},{\"attributes\":{},\"id\":\"3585\",\"type\":\"UnionRenderers\"},{\"attributes\":{\"callback\":null,\"data\":{\"cpuidle\":{\"__ndarray__\":\"TJa/ZPlLR0CIrG91xCRJQLOFXLqcGEtAXc5GqGpoS0BaWpUTMWBMQKgGtGlAy1BAvmOrWW9RUUAQA+HtXZhQQJB0EJeQKFFAh4UWxkumUEDlSmG1MD9PQA==\",\"dtype\":\"float64\",\"shape\":[11]},\"date\":{\"__ndarray__\":\"AABAf/UGd0IAAADlRwd3QgAAwEqaB3dCAACAsOwHd0IAAEAWPwh3QgAAAHyRCHdCAADA4eMId0IAAIBHNgl3QgAAQK2ICXdCAAAAE9sJd0IAAMB4LQp3Qg==\",\"dtype\":\"float64\",\"shape\":[11]},\"index\":[0,1,2,3,4,5,6,7,8,9,10]},\"selected\":{\"id\":\"3428\",\"type\":\"Selection\"},\"selection_policy\":{\"id\":\"3429\",\"type\":\"UnionRenderers\"}},\"id\":\"3378\",\"type\":\"ColumnDataSource\"},{\"attributes\":{\"callback\":null,\"data\":{\"cpuidle\":{\"__ndarray__\":\"tAjowWraPEAMgKvRX6g3QCr0qaMptzlA8cyLxAzdOkBOaBPI3Zs5QDOfjzl9aDtAX3udv+GDOkAQa1OyNiU+QGk+urNwiD9AWXuE1dHXPkCYmZmZmXk8QA==\",\"dtype\":\"float64\",\"shape\":[11]},\"date\":{\"__ndarray__\":\"AABAf/UGd0IAAADlRwd3QgAAwEqaB3dCAACAsOwHd0IAAEAWPwh3QgAAAHyRCHdCAADA4eMId0IAAIBHNgl3QgAAQK2ICXdCAAAAE9sJd0IAAMB4LQp3Qg==\",\"dtype\":\"float64\",\"shape\":[11]},\"index\":[0,1,2,3,4,5,6,7,8,9,10]},\"selected\":{\"id\":\"3799\",\"type\":\"Selection\"},\"selection_policy\":{\"id\":\"3800\",\"type\":\"UnionRenderers\"}},\"id\":\"3644\",\"type\":\"ColumnDataSource\"},{\"attributes\":{\"callback\":null,\"data\":{\"cpuidle\":{\"__ndarray__\":\"AV6QlH9oUUCchgtEb65PQI39rpOrJk9AYCs7ErG6TkC86YpWL0FPQNHMzMzMTFBAtndR4O9QUEB7sZ4QJlZQQKdN2dtaYk5AkqXdV9r9TUCyxp/1J0lPQA==\",\"dtype\":\"float64\",\"shape\":[11]},\"date\":{\"__ndarray__\":\"AABAf/UGd0IAAADlRwd3QgAAwEqaB3dCAACAsOwHd0IAAEAWPwh3QgAAAHyRCHdCAADA4eMId0IAAIBHNgl3QgAAQK2ICXdCAAAAE9sJd0IAAMB4LQp3Qg==\",\"dtype\":\"float64\",\"shape\":[11]},\"index\":[0,1,2,3,4,5,6,7,8,9,10]},\"selected\":{\"id\":\"3584\",\"type\":\"Selection\"},\"selection_policy\":{\"id\":\"3585\",\"type\":\"UnionRenderers\"}},\"id\":\"3518\",\"type\":\"ColumnDataSource\"},{\"attributes\":{\"line_color\":\"#66c2a5\",\"line_width\":2,\"x\":{\"field\":\"date\"},\"y\":{\"field\":\"cpuidle\"}},\"id\":\"3322\",\"type\":\"Line\"},{\"attributes\":{\"line_color\":\"#abdda4\",\"line_width\":2,\"x\":{\"field\":\"date\"},\"y\":{\"field\":\"cpuidle\"}},\"id\":\"3350\",\"type\":\"Line\"},{\"attributes\":{\"line_alpha\":0.1,\"line_color\":\"#1f77b4\",\"line_width\":2,\"x\":{\"field\":\"date\"},\"y\":{\"field\":\"cpuidle\"}},\"id\":\"3323\",\"type\":\"Line\"},{\"attributes\":{\"line_color\":\"#f46d43\",\"line_width\":2,\"x\":{\"field\":\"date\"},\"y\":{\"field\":\"cpuidle\"}},\"id\":\"3482\",\"type\":\"Line\"},{\"attributes\":{},\"id\":\"3333\",\"type\":\"UnionRenderers\"},{\"attributes\":{\"line_alpha\":0.1,\"line_color\":\"#1f77b4\",\"line_width\":2,\"x\":{\"field\":\"date\"},\"y\":{\"field\":\"cpuidle\"}},\"id\":\"3447\",\"type\":\"Line\"},{\"attributes\":{\"label\":{\"value\":\"192.168.10.92\"},\"renderers\":[{\"id\":\"3324\",\"type\":\"GlyphRenderer\"}]},\"id\":\"3347\",\"type\":\"LegendItem\"},{\"attributes\":{},\"id\":\"3332\",\"type\":\"Selection\"},{\"attributes\":{},\"id\":\"3464\",\"type\":\"Selection\"},{\"attributes\":{\"line_alpha\":0.1,\"line_color\":\"#1f77b4\",\"line_width\":2,\"x\":{\"field\":\"date\"},\"y\":{\"field\":\"cpuidle\"}},\"id\":\"3647\",\"type\":\"Line\"},{\"attributes\":{},\"id\":\"3465\",\"type\":\"UnionRenderers\"},{\"attributes\":{\"source\":{\"id\":\"3644\",\"type\":\"ColumnDataSource\"}},\"id\":\"3649\",\"type\":\"CDSView\"},{\"attributes\":{\"source\":{\"id\":\"3518\",\"type\":\"ColumnDataSource\"}},\"id\":\"3523\",\"type\":\"CDSView\"},{\"attributes\":{\"line_alpha\":0.1,\"line_color\":\"#1f77b4\",\"line_width\":2,\"x\":{\"field\":\"date\"},\"y\":{\"field\":\"cpuidle\"}},\"id\":\"3483\",\"type\":\"Line\"},{\"attributes\":{\"data_source\":{\"id\":\"3518\",\"type\":\"ColumnDataSource\"},\"glyph\":{\"id\":\"3520\",\"type\":\"Line\"},\"hover_glyph\":null,\"muted_glyph\":null,\"nonselection_glyph\":{\"id\":\"3521\",\"type\":\"Line\"},\"selection_glyph\":null,\"view\":{\"id\":\"3523\",\"type\":\"CDSView\"}},\"id\":\"3522\",\"type\":\"GlyphRenderer\"},{\"attributes\":{},\"id\":\"3674\",\"type\":\"Selection\"},{\"attributes\":{\"label\":{\"value\":\"192.168.10.93\"},\"renderers\":[{\"id\":\"3648\",\"type\":\"GlyphRenderer\"}]},\"id\":\"3689\",\"type\":\"LegendItem\"},{\"attributes\":{},\"id\":\"3502\",\"type\":\"Selection\"},{\"attributes\":{\"label\":{\"value\":\"192.168.10.40\"},\"renderers\":[{\"id\":\"3484\",\"type\":\"GlyphRenderer\"}]},\"id\":\"3517\",\"type\":\"LegendItem\"},{\"attributes\":{},\"id\":\"3542\",\"type\":\"Selection\"},{\"attributes\":{},\"id\":\"3799\",\"type\":\"Selection\"},{\"attributes\":{\"callback\":null,\"data\":{\"cpuidle\":{\"__ndarray__\":\"KH3SJ31SRkC0IazFgExJQJO7Ci0AcUdAF2Uvb2NRSEDFPsWGTSJHQK5UoN329UdAX8c9RiK7RkADY+hhDL1GQHfTkh45iElATybE/3b1SEAs3itdx99GQA==\",\"dtype\":\"float64\",\"shape\":[11]},\"date\":{\"__ndarray__\":\"AABAf/UGd0IAAADlRwd3QgAAwEqaB3dCAACAsOwHd0IAAEAWPwh3QgAAAHyRCHdCAADA4eMId0IAAIBHNgl3QgAAQK2ICXdCAAAAE9sJd0IAAMB4LQp3Qg==\",\"dtype\":\"float64\",\"shape\":[11]},\"index\":[0,1,2,3,4,5,6,7,8,9,10]},\"selected\":{\"id\":\"3628\",\"type\":\"Selection\"},\"selection_policy\":{\"id\":\"3629\",\"type\":\"UnionRenderers\"}},\"id\":\"3558\",\"type\":\"ColumnDataSource\"},{\"attributes\":{},\"id\":\"3675\",\"type\":\"UnionRenderers\"},{\"attributes\":{\"months\":[0,1,2,3,4,5,6,7,8,9,10,11]},\"id\":\"3312\",\"type\":\"MonthsTicker\"},{\"attributes\":{},\"id\":\"3266\",\"type\":\"LinearScale\"},{\"attributes\":{},\"id\":\"3503\",\"type\":\"UnionRenderers\"},{\"attributes\":{\"source\":{\"id\":\"3480\",\"type\":\"ColumnDataSource\"}},\"id\":\"3485\",\"type\":\"CDSView\"},{\"attributes\":{\"days\":[1,2,3,4,5,6,7,8,9,10,11,12,13,14,15,16,17,18,19,20,21,22,23,24,25,26,27,28,29,30,31]},\"id\":\"3308\",\"type\":\"DaysTicker\"},{\"attributes\":{\"data_source\":{\"id\":\"3644\",\"type\":\"ColumnDataSource\"},\"glyph\":{\"id\":\"3646\",\"type\":\"Line\"},\"hover_glyph\":null,\"muted_glyph\":null,\"nonselection_glyph\":{\"id\":\"3647\",\"type\":\"Line\"},\"selection_glyph\":null,\"view\":{\"id\":\"3649\",\"type\":\"CDSView\"}},\"id\":\"3648\",\"type\":\"GlyphRenderer\"},{\"attributes\":{\"data_source\":{\"id\":\"3558\",\"type\":\"ColumnDataSource\"},\"glyph\":{\"id\":\"3560\",\"type\":\"Line\"},\"hover_glyph\":null,\"muted_glyph\":null,\"nonselection_glyph\":{\"id\":\"3561\",\"type\":\"Line\"},\"selection_glyph\":null,\"view\":{\"id\":\"3563\",\"type\":\"CDSView\"}},\"id\":\"3562\",\"type\":\"GlyphRenderer\"},{\"attributes\":{\"months\":[0,2,4,6,8,10]},\"id\":\"3313\",\"type\":\"MonthsTicker\"},{\"attributes\":{},\"id\":\"3800\",\"type\":\"UnionRenderers\"},{\"attributes\":{\"data_source\":{\"id\":\"3480\",\"type\":\"ColumnDataSource\"},\"glyph\":{\"id\":\"3482\",\"type\":\"Line\"},\"hover_glyph\":null,\"muted_glyph\":null,\"nonselection_glyph\":{\"id\":\"3483\",\"type\":\"Line\"},\"selection_glyph\":null,\"view\":{\"id\":\"3485\",\"type\":\"CDSView\"}},\"id\":\"3484\",\"type\":\"GlyphRenderer\"},{\"attributes\":{\"source\":{\"id\":\"3558\",\"type\":\"ColumnDataSource\"}},\"id\":\"3563\",\"type\":\"CDSView\"},{\"attributes\":{\"label\":{\"value\":\"192.168.10.97\"},\"renderers\":[{\"id\":\"3522\",\"type\":\"GlyphRenderer\"}]},\"id\":\"3557\",\"type\":\"LegendItem\"},{\"attributes\":{},\"id\":\"3584\",\"type\":\"Selection\"},{\"attributes\":{\"line_color\":\"#d53e4f\",\"line_width\":2,\"x\":{\"field\":\"date\"},\"y\":{\"field\":\"cpuidle\"}},\"id\":\"3520\",\"type\":\"Line\"},{\"attributes\":{\"data_source\":{\"id\":\"3600\",\"type\":\"ColumnDataSource\"},\"glyph\":{\"id\":\"3602\",\"type\":\"Line\"},\"hover_glyph\":null,\"muted_glyph\":null,\"nonselection_glyph\":{\"id\":\"3603\",\"type\":\"Line\"},\"selection_glyph\":null,\"view\":{\"id\":\"3605\",\"type\":\"CDSView\"}},\"id\":\"3604\",\"type\":\"GlyphRenderer\"},{\"attributes\":{\"line_alpha\":0.1,\"line_color\":\"#1f77b4\",\"line_width\":2,\"x\":{\"field\":\"date\"},\"y\":{\"field\":\"cpuidle\"}},\"id\":\"3521\",\"type\":\"Line\"},{\"attributes\":{},\"id\":\"3276\",\"type\":\"BasicTicker\"},{\"attributes\":{},\"id\":\"3543\",\"type\":\"UnionRenderers\"},{\"attributes\":{\"days\":[1,15]},\"id\":\"3311\",\"type\":\"DaysTicker\"},{\"attributes\":{},\"id\":\"3316\",\"type\":\"YearsTicker\"},{\"attributes\":{},\"id\":\"3268\",\"type\":\"LinearScale\"},{\"attributes\":{\"line_color\":\"#66c2a5\",\"line_width\":2,\"x\":{\"field\":\"date\"},\"y\":{\"field\":\"cpuidle\"}},\"id\":\"3646\",\"type\":\"Line\"},{\"attributes\":{\"line_color\":\"#3288bd\",\"line_width\":2,\"x\":{\"field\":\"date\"},\"y\":{\"field\":\"cpuidle\"}},\"id\":\"3602\",\"type\":\"Line\"},{\"attributes\":{\"days\":[1,8,15,22]},\"id\":\"3310\",\"type\":\"DaysTicker\"},{\"attributes\":{\"days\":[1,4,7,10,13,16,19,22,25,28]},\"id\":\"3309\",\"type\":\"DaysTicker\"},{\"attributes\":{\"callback\":null,\"data\":{\"cpuidle\":{\"__ndarray__\":\"8aY3venNLEBOqzFcIvYmQPC4hKflJjBApI8oQxvXMUADOB0Juj4wQHELgml33jFADFqnKoVyLEBvtMBHFeogQG0DnTbQCQtA4jSRw8cyA0CsS22eDfUmQA==\",\"dtype\":\"float64\",\"shape\":[11]},\"date\":{\"__ndarray__\":\"AABAf/UGd0IAAADlRwd3QgAAwEqaB3dCAACAsOwHd0IAAEAWPwh3QgAAAHyRCHdCAADA4eMId0IAAIBHNgl3QgAAQK2ICXdCAAAAE9sJd0IAAMB4LQp3Qg==\",\"dtype\":\"float64\",\"shape\":[11]},\"index\":[0,1,2,3,4,5,6,7,8,9,10]},\"selected\":{\"id\":\"3362\",\"type\":\"Selection\"},\"selection_policy\":{\"id\":\"3363\",\"type\":\"UnionRenderers\"}},\"id\":\"3320\",\"type\":\"ColumnDataSource\"},{\"attributes\":{},\"id\":\"3628\",\"type\":\"Selection\"},{\"attributes\":{},\"id\":\"3629\",\"type\":\"UnionRenderers\"},{\"attributes\":{\"axis_label\":\"cpuidle\",\"formatter\":{\"id\":\"3301\",\"type\":\"BasicTickFormatter\"},\"ticker\":{\"id\":\"3276\",\"type\":\"BasicTicker\"}},\"id\":\"3275\",\"type\":\"LinearAxis\"},{\"attributes\":{\"callback\":null,\"data\":{\"cpuidle\":{\"__ndarray__\":\"AAAAAAAAV0AAAAAAAABXQAAAAAAAAFdAAAAAAAAAV0AAAAAAAABXQAAAAAAAAFdAAAAAAAAAV0CuLHfnRP9WQHaZmZmZ+VZAfJmZmZn5VkCKmZmZmflWQA==\",\"dtype\":\"float64\",\"shape\":[11]},\"date\":{\"__ndarray__\":\"AABAf/UGd0IAAADlRwd3QgAAwEqaB3dCAACAsOwHd0IAAEAWPwh3QgAAAHyRCHdCAADA4eMId0IAAIBHNgl3QgAAQK2ICXdCAAAAE9sJd0IAAMB4LQp3Qg==\",\"dtype\":\"float64\",\"shape\":[11]},\"index\":[0,1,2,3,4,5,6,7,8,9,10]},\"selected\":{\"id\":\"3542\",\"type\":\"Selection\"},\"selection_policy\":{\"id\":\"3543\",\"type\":\"UnionRenderers\"}},\"id\":\"3480\",\"type\":\"ColumnDataSource\"},{\"attributes\":{\"line_alpha\":0.1,\"line_color\":\"#1f77b4\",\"line_width\":2,\"x\":{\"field\":\"date\"},\"y\":{\"field\":\"cpuidle\"}},\"id\":\"3561\",\"type\":\"Line\"},{\"attributes\":{\"bottom_units\":\"screen\",\"fill_alpha\":{\"value\":0.5},\"fill_color\":{\"value\":\"lightgrey\"},\"left_units\":\"screen\",\"level\":\"overlay\",\"line_alpha\":{\"value\":1.0},\"line_color\":{\"value\":\"black\"},\"line_dash\":[4,4],\"line_width\":{\"value\":2},\"render_mode\":\"css\",\"right_units\":\"screen\",\"top_units\":\"screen\"},\"id\":\"3317\",\"type\":\"BoxAnnotation\"},{\"attributes\":{\"ticker\":{\"id\":\"3271\",\"type\":\"DatetimeTicker\"}},\"id\":\"3274\",\"type\":\"Grid\"},{\"attributes\":{\"source\":{\"id\":\"3600\",\"type\":\"ColumnDataSource\"}},\"id\":\"3605\",\"type\":\"CDSView\"},{\"attributes\":{\"label\":{\"value\":\"192.168.10.96\"},\"renderers\":[{\"id\":\"3604\",\"type\":\"GlyphRenderer\"}]},\"id\":\"3643\",\"type\":\"LegendItem\"},{\"attributes\":{\"formatter\":{\"id\":\"3303\",\"type\":\"DatetimeTickFormatter\"},\"ticker\":{\"id\":\"3271\",\"type\":\"DatetimeTicker\"}},\"id\":\"3270\",\"type\":\"DatetimeAxis\"},{\"attributes\":{\"line_alpha\":0.1,\"line_color\":\"#1f77b4\",\"line_width\":2,\"x\":{\"field\":\"date\"},\"y\":{\"field\":\"cpuidle\"}},\"id\":\"3603\",\"type\":\"Line\"},{\"attributes\":{\"line_color\":\"#5e4fa2\",\"line_width\":2,\"x\":{\"field\":\"date\"},\"y\":{\"field\":\"cpuidle\"}},\"id\":\"3560\",\"type\":\"Line\"},{\"attributes\":{\"num_minor_ticks\":5,\"tickers\":[{\"id\":\"3305\",\"type\":\"AdaptiveTicker\"},{\"id\":\"3306\",\"type\":\"AdaptiveTicker\"},{\"id\":\"3307\",\"type\":\"AdaptiveTicker\"},{\"id\":\"3308\",\"type\":\"DaysTicker\"},{\"id\":\"3309\",\"type\":\"DaysTicker\"},{\"id\":\"3310\",\"type\":\"DaysTicker\"},{\"id\":\"3311\",\"type\":\"DaysTicker\"},{\"id\":\"3312\",\"type\":\"MonthsTicker\"},{\"id\":\"3313\",\"type\":\"MonthsTicker\"},{\"id\":\"3314\",\"type\":\"MonthsTicker\"},{\"id\":\"3315\",\"type\":\"MonthsTicker\"},{\"id\":\"3316\",\"type\":\"YearsTicker\"}]},\"id\":\"3271\",\"type\":\"DatetimeTicker\"}],\"root_ids\":[\"3261\"]},\"title\":\"Bokeh Application\",\"version\":\"1.4.0\"}};\n",
       "  var render_items = [{\"docid\":\"9d432663-3aa5-4457-ac29-5593c6011454\",\"roots\":{\"3261\":\"2b5feef2-1d89-4f97-a858-86231d805912\"}}];\n",
       "  root.Bokeh.embed.embed_items_notebook(docs_json, render_items);\n",
       "\n",
       "  }\n",
       "  if (root.Bokeh !== undefined) {\n",
       "    embed_document(root);\n",
       "  } else {\n",
       "    var attempts = 0;\n",
       "    var timer = setInterval(function(root) {\n",
       "      if (root.Bokeh !== undefined) {\n",
       "        clearInterval(timer);\n",
       "        embed_document(root);\n",
       "      } else {\n",
       "        attempts++;\n",
       "        if (attempts > 100) {\n",
       "          clearInterval(timer);\n",
       "          console.log(\"Bokeh: ERROR: Unable to run BokehJS code because BokehJS library is missing\");\n",
       "        }\n",
       "      }\n",
       "    }, 10, root)\n",
       "  }\n",
       "})(window);"
      ],
      "application/vnd.bokehjs_exec.v0+json": ""
     },
     "metadata": {
      "application/vnd.bokehjs_exec.v0+json": {
       "id": "3261"
      }
     },
     "output_type": "display_data"
    }
   ],
   "source": [
    "#所有ip的cpuidle：\n",
    "ips=df['ip'].unique()\n",
    "p = figure(x_axis_type='datetime')\n",
    "i=0\n",
    "for ip in ips:\n",
    "    i=i+1\n",
    "    grouped=df.loc[(df['ip']==ip ),['cpuidle']].resample('D').mean().reset_index()\n",
    "    source = ColumnDataSource(grouped)\n",
    "    p.line(x='date', y='cpuidle', line_width=2, source=source, color=Spectral10[i%9], legend_label=ip)\n",
    "\n",
    "p.yaxis.axis_label = 'cpuidle'\n",
    "show(p)"
   ]
  },
  {
   "cell_type": "markdown",
   "metadata": {},
   "source": [
    "### 3.interactive 交互选择ip或项目，得到相应曲线"
   ]
  },
  {
   "cell_type": "code",
   "execution_count": 64,
   "metadata": {},
   "outputs": [
    {
     "data": {
      "text/html": [
       "\n",
       "    <div class=\"bk-root\">\n",
       "        <a href=\"https://bokeh.org\" target=\"_blank\" class=\"bk-logo bk-logo-small bk-logo-notebook\"></a>\n",
       "        <span id=\"4595\">Loading BokehJS ...</span>\n",
       "    </div>"
      ]
     },
     "metadata": {},
     "output_type": "display_data"
    },
    {
     "data": {
      "application/javascript": [
       "\n",
       "(function(root) {\n",
       "  function now() {\n",
       "    return new Date();\n",
       "  }\n",
       "\n",
       "  var force = true;\n",
       "\n",
       "  if (typeof root._bokeh_onload_callbacks === \"undefined\" || force === true) {\n",
       "    root._bokeh_onload_callbacks = [];\n",
       "    root._bokeh_is_loading = undefined;\n",
       "  }\n",
       "\n",
       "  var JS_MIME_TYPE = 'application/javascript';\n",
       "  var HTML_MIME_TYPE = 'text/html';\n",
       "  var EXEC_MIME_TYPE = 'application/vnd.bokehjs_exec.v0+json';\n",
       "  var CLASS_NAME = 'output_bokeh rendered_html';\n",
       "\n",
       "  /**\n",
       "   * Render data to the DOM node\n",
       "   */\n",
       "  function render(props, node) {\n",
       "    var script = document.createElement(\"script\");\n",
       "    node.appendChild(script);\n",
       "  }\n",
       "\n",
       "  /**\n",
       "   * Handle when an output is cleared or removed\n",
       "   */\n",
       "  function handleClearOutput(event, handle) {\n",
       "    var cell = handle.cell;\n",
       "\n",
       "    var id = cell.output_area._bokeh_element_id;\n",
       "    var server_id = cell.output_area._bokeh_server_id;\n",
       "    // Clean up Bokeh references\n",
       "    if (id != null && id in Bokeh.index) {\n",
       "      Bokeh.index[id].model.document.clear();\n",
       "      delete Bokeh.index[id];\n",
       "    }\n",
       "\n",
       "    if (server_id !== undefined) {\n",
       "      // Clean up Bokeh references\n",
       "      var cmd = \"from bokeh.io.state import curstate; print(curstate().uuid_to_server['\" + server_id + \"'].get_sessions()[0].document.roots[0]._id)\";\n",
       "      cell.notebook.kernel.execute(cmd, {\n",
       "        iopub: {\n",
       "          output: function(msg) {\n",
       "            var id = msg.content.text.trim();\n",
       "            if (id in Bokeh.index) {\n",
       "              Bokeh.index[id].model.document.clear();\n",
       "              delete Bokeh.index[id];\n",
       "            }\n",
       "          }\n",
       "        }\n",
       "      });\n",
       "      // Destroy server and session\n",
       "      var cmd = \"import bokeh.io.notebook as ion; ion.destroy_server('\" + server_id + \"')\";\n",
       "      cell.notebook.kernel.execute(cmd);\n",
       "    }\n",
       "  }\n",
       "\n",
       "  /**\n",
       "   * Handle when a new output is added\n",
       "   */\n",
       "  function handleAddOutput(event, handle) {\n",
       "    var output_area = handle.output_area;\n",
       "    var output = handle.output;\n",
       "\n",
       "    // limit handleAddOutput to display_data with EXEC_MIME_TYPE content only\n",
       "    if ((output.output_type != \"display_data\") || (!output.data.hasOwnProperty(EXEC_MIME_TYPE))) {\n",
       "      return\n",
       "    }\n",
       "\n",
       "    var toinsert = output_area.element.find(\".\" + CLASS_NAME.split(' ')[0]);\n",
       "\n",
       "    if (output.metadata[EXEC_MIME_TYPE][\"id\"] !== undefined) {\n",
       "      toinsert[toinsert.length - 1].firstChild.textContent = output.data[JS_MIME_TYPE];\n",
       "      // store reference to embed id on output_area\n",
       "      output_area._bokeh_element_id = output.metadata[EXEC_MIME_TYPE][\"id\"];\n",
       "    }\n",
       "    if (output.metadata[EXEC_MIME_TYPE][\"server_id\"] !== undefined) {\n",
       "      var bk_div = document.createElement(\"div\");\n",
       "      bk_div.innerHTML = output.data[HTML_MIME_TYPE];\n",
       "      var script_attrs = bk_div.children[0].attributes;\n",
       "      for (var i = 0; i < script_attrs.length; i++) {\n",
       "        toinsert[toinsert.length - 1].firstChild.setAttribute(script_attrs[i].name, script_attrs[i].value);\n",
       "      }\n",
       "      // store reference to server id on output_area\n",
       "      output_area._bokeh_server_id = output.metadata[EXEC_MIME_TYPE][\"server_id\"];\n",
       "    }\n",
       "  }\n",
       "\n",
       "  function register_renderer(events, OutputArea) {\n",
       "\n",
       "    function append_mime(data, metadata, element) {\n",
       "      // create a DOM node to render to\n",
       "      var toinsert = this.create_output_subarea(\n",
       "        metadata,\n",
       "        CLASS_NAME,\n",
       "        EXEC_MIME_TYPE\n",
       "      );\n",
       "      this.keyboard_manager.register_events(toinsert);\n",
       "      // Render to node\n",
       "      var props = {data: data, metadata: metadata[EXEC_MIME_TYPE]};\n",
       "      render(props, toinsert[toinsert.length - 1]);\n",
       "      element.append(toinsert);\n",
       "      return toinsert\n",
       "    }\n",
       "\n",
       "    /* Handle when an output is cleared or removed */\n",
       "    events.on('clear_output.CodeCell', handleClearOutput);\n",
       "    events.on('delete.Cell', handleClearOutput);\n",
       "\n",
       "    /* Handle when a new output is added */\n",
       "    events.on('output_added.OutputArea', handleAddOutput);\n",
       "\n",
       "    /**\n",
       "     * Register the mime type and append_mime function with output_area\n",
       "     */\n",
       "    OutputArea.prototype.register_mime_type(EXEC_MIME_TYPE, append_mime, {\n",
       "      /* Is output safe? */\n",
       "      safe: true,\n",
       "      /* Index of renderer in `output_area.display_order` */\n",
       "      index: 0\n",
       "    });\n",
       "  }\n",
       "\n",
       "  // register the mime type if in Jupyter Notebook environment and previously unregistered\n",
       "  if (root.Jupyter !== undefined) {\n",
       "    var events = require('base/js/events');\n",
       "    var OutputArea = require('notebook/js/outputarea').OutputArea;\n",
       "\n",
       "    if (OutputArea.prototype.mime_types().indexOf(EXEC_MIME_TYPE) == -1) {\n",
       "      register_renderer(events, OutputArea);\n",
       "    }\n",
       "  }\n",
       "\n",
       "  \n",
       "  if (typeof (root._bokeh_timeout) === \"undefined\" || force === true) {\n",
       "    root._bokeh_timeout = Date.now() + 5000;\n",
       "    root._bokeh_failed_load = false;\n",
       "  }\n",
       "\n",
       "  var NB_LOAD_WARNING = {'data': {'text/html':\n",
       "     \"<div style='background-color: #fdd'>\\n\"+\n",
       "     \"<p>\\n\"+\n",
       "     \"BokehJS does not appear to have successfully loaded. If loading BokehJS from CDN, this \\n\"+\n",
       "     \"may be due to a slow or bad network connection. Possible fixes:\\n\"+\n",
       "     \"</p>\\n\"+\n",
       "     \"<ul>\\n\"+\n",
       "     \"<li>re-rerun `output_notebook()` to attempt to load from CDN again, or</li>\\n\"+\n",
       "     \"<li>use INLINE resources instead, as so:</li>\\n\"+\n",
       "     \"</ul>\\n\"+\n",
       "     \"<code>\\n\"+\n",
       "     \"from bokeh.resources import INLINE\\n\"+\n",
       "     \"output_notebook(resources=INLINE)\\n\"+\n",
       "     \"</code>\\n\"+\n",
       "     \"</div>\"}};\n",
       "\n",
       "  function display_loaded() {\n",
       "    var el = document.getElementById(\"4595\");\n",
       "    if (el != null) {\n",
       "      el.textContent = \"BokehJS is loading...\";\n",
       "    }\n",
       "    if (root.Bokeh !== undefined) {\n",
       "      if (el != null) {\n",
       "        el.textContent = \"BokehJS \" + root.Bokeh.version + \" successfully loaded.\";\n",
       "      }\n",
       "    } else if (Date.now() < root._bokeh_timeout) {\n",
       "      setTimeout(display_loaded, 100)\n",
       "    }\n",
       "  }\n",
       "\n",
       "\n",
       "  function run_callbacks() {\n",
       "    try {\n",
       "      root._bokeh_onload_callbacks.forEach(function(callback) {\n",
       "        if (callback != null)\n",
       "          callback();\n",
       "      });\n",
       "    } finally {\n",
       "      delete root._bokeh_onload_callbacks\n",
       "    }\n",
       "    console.debug(\"Bokeh: all callbacks have finished\");\n",
       "  }\n",
       "\n",
       "  function load_libs(css_urls, js_urls, callback) {\n",
       "    if (css_urls == null) css_urls = [];\n",
       "    if (js_urls == null) js_urls = [];\n",
       "\n",
       "    root._bokeh_onload_callbacks.push(callback);\n",
       "    if (root._bokeh_is_loading > 0) {\n",
       "      console.debug(\"Bokeh: BokehJS is being loaded, scheduling callback at\", now());\n",
       "      return null;\n",
       "    }\n",
       "    if (js_urls == null || js_urls.length === 0) {\n",
       "      run_callbacks();\n",
       "      return null;\n",
       "    }\n",
       "    console.debug(\"Bokeh: BokehJS not loaded, scheduling load and callback at\", now());\n",
       "    root._bokeh_is_loading = css_urls.length + js_urls.length;\n",
       "\n",
       "    function on_load() {\n",
       "      root._bokeh_is_loading--;\n",
       "      if (root._bokeh_is_loading === 0) {\n",
       "        console.debug(\"Bokeh: all BokehJS libraries/stylesheets loaded\");\n",
       "        run_callbacks()\n",
       "      }\n",
       "    }\n",
       "\n",
       "    function on_error() {\n",
       "      console.error(\"failed to load \" + url);\n",
       "    }\n",
       "\n",
       "    for (var i = 0; i < css_urls.length; i++) {\n",
       "      var url = css_urls[i];\n",
       "      const element = document.createElement(\"link\");\n",
       "      element.onload = on_load;\n",
       "      element.onerror = on_error;\n",
       "      element.rel = \"stylesheet\";\n",
       "      element.type = \"text/css\";\n",
       "      element.href = url;\n",
       "      console.debug(\"Bokeh: injecting link tag for BokehJS stylesheet: \", url);\n",
       "      document.body.appendChild(element);\n",
       "    }\n",
       "\n",
       "    for (var i = 0; i < js_urls.length; i++) {\n",
       "      var url = js_urls[i];\n",
       "      var element = document.createElement('script');\n",
       "      element.onload = on_load;\n",
       "      element.onerror = on_error;\n",
       "      element.async = false;\n",
       "      element.src = url;\n",
       "      console.debug(\"Bokeh: injecting script tag for BokehJS library: \", url);\n",
       "      document.head.appendChild(element);\n",
       "    }\n",
       "  };var element = document.getElementById(\"4595\");\n",
       "  if (element == null) {\n",
       "    console.error(\"Bokeh: ERROR: autoload.js configured with elementid '4595' but no matching script tag was found. \")\n",
       "    return false;\n",
       "  }\n",
       "\n",
       "  function inject_raw_css(css) {\n",
       "    const element = document.createElement(\"style\");\n",
       "    element.appendChild(document.createTextNode(css));\n",
       "    document.body.appendChild(element);\n",
       "  }\n",
       "\n",
       "  \n",
       "  var js_urls = [\"https://cdn.pydata.org/bokeh/release/bokeh-1.4.0.min.js\", \"https://cdn.pydata.org/bokeh/release/bokeh-widgets-1.4.0.min.js\", \"https://cdn.pydata.org/bokeh/release/bokeh-tables-1.4.0.min.js\", \"https://cdn.pydata.org/bokeh/release/bokeh-gl-1.4.0.min.js\"];\n",
       "  var css_urls = [];\n",
       "  \n",
       "\n",
       "  var inline_js = [\n",
       "    function(Bokeh) {\n",
       "      Bokeh.set_log_level(\"info\");\n",
       "    },\n",
       "    function(Bokeh) {\n",
       "    \n",
       "    \n",
       "    }\n",
       "  ];\n",
       "\n",
       "  function run_inline_js() {\n",
       "    \n",
       "    if (root.Bokeh !== undefined || force === true) {\n",
       "      \n",
       "    for (var i = 0; i < inline_js.length; i++) {\n",
       "      inline_js[i].call(root, root.Bokeh);\n",
       "    }\n",
       "    if (force === true) {\n",
       "        display_loaded();\n",
       "      }} else if (Date.now() < root._bokeh_timeout) {\n",
       "      setTimeout(run_inline_js, 100);\n",
       "    } else if (!root._bokeh_failed_load) {\n",
       "      console.log(\"Bokeh: BokehJS failed to load within specified timeout.\");\n",
       "      root._bokeh_failed_load = true;\n",
       "    } else if (force !== true) {\n",
       "      var cell = $(document.getElementById(\"4595\")).parents('.cell').data().cell;\n",
       "      cell.output_area.append_execute_result(NB_LOAD_WARNING)\n",
       "    }\n",
       "\n",
       "  }\n",
       "\n",
       "  if (root._bokeh_is_loading === 0) {\n",
       "    console.debug(\"Bokeh: BokehJS loaded, going straight to plotting\");\n",
       "    run_inline_js();\n",
       "  } else {\n",
       "    load_libs(css_urls, js_urls, function() {\n",
       "      console.debug(\"Bokeh: BokehJS plotting callback run at\", now());\n",
       "      run_inline_js();\n",
       "    });\n",
       "  }\n",
       "}(window));"
      ],
      "application/vnd.bokehjs_load.v0+json": "\n(function(root) {\n  function now() {\n    return new Date();\n  }\n\n  var force = true;\n\n  if (typeof root._bokeh_onload_callbacks === \"undefined\" || force === true) {\n    root._bokeh_onload_callbacks = [];\n    root._bokeh_is_loading = undefined;\n  }\n\n  \n\n  \n  if (typeof (root._bokeh_timeout) === \"undefined\" || force === true) {\n    root._bokeh_timeout = Date.now() + 5000;\n    root._bokeh_failed_load = false;\n  }\n\n  var NB_LOAD_WARNING = {'data': {'text/html':\n     \"<div style='background-color: #fdd'>\\n\"+\n     \"<p>\\n\"+\n     \"BokehJS does not appear to have successfully loaded. If loading BokehJS from CDN, this \\n\"+\n     \"may be due to a slow or bad network connection. Possible fixes:\\n\"+\n     \"</p>\\n\"+\n     \"<ul>\\n\"+\n     \"<li>re-rerun `output_notebook()` to attempt to load from CDN again, or</li>\\n\"+\n     \"<li>use INLINE resources instead, as so:</li>\\n\"+\n     \"</ul>\\n\"+\n     \"<code>\\n\"+\n     \"from bokeh.resources import INLINE\\n\"+\n     \"output_notebook(resources=INLINE)\\n\"+\n     \"</code>\\n\"+\n     \"</div>\"}};\n\n  function display_loaded() {\n    var el = document.getElementById(\"4595\");\n    if (el != null) {\n      el.textContent = \"BokehJS is loading...\";\n    }\n    if (root.Bokeh !== undefined) {\n      if (el != null) {\n        el.textContent = \"BokehJS \" + root.Bokeh.version + \" successfully loaded.\";\n      }\n    } else if (Date.now() < root._bokeh_timeout) {\n      setTimeout(display_loaded, 100)\n    }\n  }\n\n\n  function run_callbacks() {\n    try {\n      root._bokeh_onload_callbacks.forEach(function(callback) {\n        if (callback != null)\n          callback();\n      });\n    } finally {\n      delete root._bokeh_onload_callbacks\n    }\n    console.debug(\"Bokeh: all callbacks have finished\");\n  }\n\n  function load_libs(css_urls, js_urls, callback) {\n    if (css_urls == null) css_urls = [];\n    if (js_urls == null) js_urls = [];\n\n    root._bokeh_onload_callbacks.push(callback);\n    if (root._bokeh_is_loading > 0) {\n      console.debug(\"Bokeh: BokehJS is being loaded, scheduling callback at\", now());\n      return null;\n    }\n    if (js_urls == null || js_urls.length === 0) {\n      run_callbacks();\n      return null;\n    }\n    console.debug(\"Bokeh: BokehJS not loaded, scheduling load and callback at\", now());\n    root._bokeh_is_loading = css_urls.length + js_urls.length;\n\n    function on_load() {\n      root._bokeh_is_loading--;\n      if (root._bokeh_is_loading === 0) {\n        console.debug(\"Bokeh: all BokehJS libraries/stylesheets loaded\");\n        run_callbacks()\n      }\n    }\n\n    function on_error() {\n      console.error(\"failed to load \" + url);\n    }\n\n    for (var i = 0; i < css_urls.length; i++) {\n      var url = css_urls[i];\n      const element = document.createElement(\"link\");\n      element.onload = on_load;\n      element.onerror = on_error;\n      element.rel = \"stylesheet\";\n      element.type = \"text/css\";\n      element.href = url;\n      console.debug(\"Bokeh: injecting link tag for BokehJS stylesheet: \", url);\n      document.body.appendChild(element);\n    }\n\n    for (var i = 0; i < js_urls.length; i++) {\n      var url = js_urls[i];\n      var element = document.createElement('script');\n      element.onload = on_load;\n      element.onerror = on_error;\n      element.async = false;\n      element.src = url;\n      console.debug(\"Bokeh: injecting script tag for BokehJS library: \", url);\n      document.head.appendChild(element);\n    }\n  };var element = document.getElementById(\"4595\");\n  if (element == null) {\n    console.error(\"Bokeh: ERROR: autoload.js configured with elementid '4595' but no matching script tag was found. \")\n    return false;\n  }\n\n  function inject_raw_css(css) {\n    const element = document.createElement(\"style\");\n    element.appendChild(document.createTextNode(css));\n    document.body.appendChild(element);\n  }\n\n  \n  var js_urls = [\"https://cdn.pydata.org/bokeh/release/bokeh-1.4.0.min.js\", \"https://cdn.pydata.org/bokeh/release/bokeh-widgets-1.4.0.min.js\", \"https://cdn.pydata.org/bokeh/release/bokeh-tables-1.4.0.min.js\", \"https://cdn.pydata.org/bokeh/release/bokeh-gl-1.4.0.min.js\"];\n  var css_urls = [];\n  \n\n  var inline_js = [\n    function(Bokeh) {\n      Bokeh.set_log_level(\"info\");\n    },\n    function(Bokeh) {\n    \n    \n    }\n  ];\n\n  function run_inline_js() {\n    \n    if (root.Bokeh !== undefined || force === true) {\n      \n    for (var i = 0; i < inline_js.length; i++) {\n      inline_js[i].call(root, root.Bokeh);\n    }\n    if (force === true) {\n        display_loaded();\n      }} else if (Date.now() < root._bokeh_timeout) {\n      setTimeout(run_inline_js, 100);\n    } else if (!root._bokeh_failed_load) {\n      console.log(\"Bokeh: BokehJS failed to load within specified timeout.\");\n      root._bokeh_failed_load = true;\n    } else if (force !== true) {\n      var cell = $(document.getElementById(\"4595\")).parents('.cell').data().cell;\n      cell.output_area.append_execute_result(NB_LOAD_WARNING)\n    }\n\n  }\n\n  if (root._bokeh_is_loading === 0) {\n    console.debug(\"Bokeh: BokehJS loaded, going straight to plotting\");\n    run_inline_js();\n  } else {\n    load_libs(css_urls, js_urls, function() {\n      console.debug(\"Bokeh: BokehJS plotting callback run at\", now());\n      run_inline_js();\n    });\n  }\n}(window));"
     },
     "metadata": {},
     "output_type": "display_data"
    }
   ],
   "source": [
    "# interactive 交互选择ip或项目，得到相应曲线\n",
    "from ipywidgets import interact\n",
    "import numpy as np\n",
    "from bokeh.io import push_notebook, show, output_notebook\n",
    "from bokeh.plotting import figure\n",
    "from bokeh.palettes import brewer\n",
    "output_notebook()"
   ]
  },
  {
   "cell_type": "code",
   "execution_count": 65,
   "metadata": {},
   "outputs": [],
   "source": [
    "def update(ip,item):\n",
    "    p = figure(x_axis_type='datetime')\n",
    "    p.yaxis.axis_label = item\n",
    "    grouped=df.loc[(df['ip']==ip ),[item]].resample('D').mean().reset_index()\n",
    "    source = ColumnDataSource(grouped)\n",
    "    p.line(x='date', y=item, line_width=2, source=source, legend_label=ip+item)\n",
    "    show(p, notebook_handle=True)\n",
    "    push_notebook()"
   ]
  },
  {
   "cell_type": "code",
   "execution_count": 66,
   "metadata": {},
   "outputs": [
    {
     "data": {
      "application/vnd.jupyter.widget-view+json": {
       "model_id": "96625ba79abb4ed1b11d8af575deebba",
       "version_major": 2,
       "version_minor": 0
      },
      "text/plain": [
       "interactive(children=(Dropdown(description='ip', options=('192.168.10.23', '192.168.10.92', '192.168.10.30', '…"
      ]
     },
     "metadata": {},
     "output_type": "display_data"
    },
    {
     "data": {
      "text/plain": [
       "<function __main__.update(ip, item)>"
      ]
     },
     "execution_count": 66,
     "metadata": {},
     "output_type": "execute_result"
    }
   ],
   "source": [
    "interact(update, ip=df['ip'].unique(),  item=df.columns[1:])"
   ]
  },
  {
   "cell_type": "markdown",
   "metadata": {},
   "source": [
    "### 4.加个线条顔色,和采样时间周期"
   ]
  },
  {
   "cell_type": "code",
   "execution_count": 69,
   "metadata": {},
   "outputs": [
    {
     "data": {
      "application/vnd.jupyter.widget-view+json": {
       "model_id": "b3f28592fbd5453098bf82bd7a21bdb0",
       "version_major": 2,
       "version_minor": 0
      },
      "text/plain": [
       "interactive(children=(Dropdown(description='ip', options=('192.168.10.23', '192.168.10.92', '192.168.10.30', '…"
      ]
     },
     "metadata": {},
     "output_type": "display_data"
    },
    {
     "data": {
      "text/plain": [
       "<function __main__.update(ip, item, per)>"
      ]
     },
     "execution_count": 69,
     "metadata": {},
     "output_type": "execute_result"
    }
   ],
   "source": [
    "from bokeh.palettes import Spectral11\n",
    "\n",
    "def update(ip,item,per):\n",
    "    p = figure(x_axis_type='datetime')\n",
    "    p.yaxis.axis_label = item\n",
    "    grouped=df.loc[(df['ip']==ip ),[item]].resample(per).mean().reset_index()\n",
    "    source = ColumnDataSource(grouped)\n",
    "    p.line(x='date', y=item, line_width=2, source=source, color=Spectral11[ips.tolist().index(ip)],legend_label=ip+item)\n",
    "    show(p, notebook_handle=True)\n",
    "    push_notebook()\n",
    "\n",
    "ips=df['ip'].unique()\n",
    "period=['5min','15min','60min','120min','D','2D','3D']\n",
    "interact(update, ip=ips,  item=df.columns[1:],per=period)\n"
   ]
  },
  {
   "cell_type": "code",
   "execution_count": 70,
   "metadata": {},
   "outputs": [
    {
     "data": {
      "text/html": [
       "<div>\n",
       "<style scoped>\n",
       "    .dataframe tbody tr th:only-of-type {\n",
       "        vertical-align: middle;\n",
       "    }\n",
       "\n",
       "    .dataframe tbody tr th {\n",
       "        vertical-align: top;\n",
       "    }\n",
       "\n",
       "    .dataframe thead th {\n",
       "        text-align: right;\n",
       "    }\n",
       "</style>\n",
       "<table border=\"1\" class=\"dataframe\">\n",
       "  <thead>\n",
       "    <tr style=\"text-align: right;\">\n",
       "      <th></th>\n",
       "      <th>ip</th>\n",
       "      <th>cpuidle</th>\n",
       "      <th>memtotal</th>\n",
       "      <th>memused</th>\n",
       "      <th>rx</th>\n",
       "      <th>tx</th>\n",
       "      <th>rootrate</th>\n",
       "      <th>ioawait</th>\n",
       "      <th>ioutil</th>\n",
       "      <th>memutils</th>\n",
       "    </tr>\n",
       "    <tr>\n",
       "      <th>date</th>\n",
       "      <th></th>\n",
       "      <th></th>\n",
       "      <th></th>\n",
       "      <th></th>\n",
       "      <th></th>\n",
       "      <th></th>\n",
       "      <th></th>\n",
       "      <th></th>\n",
       "      <th></th>\n",
       "      <th></th>\n",
       "    </tr>\n",
       "  </thead>\n",
       "  <tbody>\n",
       "    <tr>\n",
       "      <th>2020-02-23 22:10:02</th>\n",
       "      <td>192.168.10.23</td>\n",
       "      <td>41.3</td>\n",
       "      <td>115572872</td>\n",
       "      <td>90595360</td>\n",
       "      <td>1005</td>\n",
       "      <td>253</td>\n",
       "      <td>67</td>\n",
       "      <td>1.66</td>\n",
       "      <td>0.07</td>\n",
       "      <td>78.39</td>\n",
       "    </tr>\n",
       "    <tr>\n",
       "      <th>2020-02-23 22:10:03</th>\n",
       "      <td>192.168.10.92</td>\n",
       "      <td>46.0</td>\n",
       "      <td>8168864</td>\n",
       "      <td>3846048</td>\n",
       "      <td>95167</td>\n",
       "      <td>129432</td>\n",
       "      <td>71</td>\n",
       "      <td>3.51</td>\n",
       "      <td>56.01</td>\n",
       "      <td>47.08</td>\n",
       "    </tr>\n",
       "    <tr>\n",
       "      <th>2020-02-23 22:15:02</th>\n",
       "      <td>192.168.10.30</td>\n",
       "      <td>93.8</td>\n",
       "      <td>65955588</td>\n",
       "      <td>65264088</td>\n",
       "      <td>12110</td>\n",
       "      <td>117974</td>\n",
       "      <td>67</td>\n",
       "      <td>3.05</td>\n",
       "      <td>0.22</td>\n",
       "      <td>98.95</td>\n",
       "    </tr>\n",
       "    <tr>\n",
       "      <th>2020-02-23 22:15:03</th>\n",
       "      <td>192.168.10.23</td>\n",
       "      <td>41.3</td>\n",
       "      <td>115572872</td>\n",
       "      <td>90590608</td>\n",
       "      <td>922</td>\n",
       "      <td>324</td>\n",
       "      <td>67</td>\n",
       "      <td>1.66</td>\n",
       "      <td>0.07</td>\n",
       "      <td>78.38</td>\n",
       "    </tr>\n",
       "    <tr>\n",
       "      <th>2020-02-23 22:15:03</th>\n",
       "      <td>192.168.10.92</td>\n",
       "      <td>2.1</td>\n",
       "      <td>8168864</td>\n",
       "      <td>3847224</td>\n",
       "      <td>51386</td>\n",
       "      <td>83148</td>\n",
       "      <td>71</td>\n",
       "      <td>3.51</td>\n",
       "      <td>56.01</td>\n",
       "      <td>78.38</td>\n",
       "    </tr>\n",
       "  </tbody>\n",
       "</table>\n",
       "</div>"
      ],
      "text/plain": [
       "                                ip  cpuidle   memtotal   memused     rx  \\\n",
       "date                                                                      \n",
       "2020-02-23 22:10:02  192.168.10.23     41.3  115572872  90595360   1005   \n",
       "2020-02-23 22:10:03  192.168.10.92     46.0    8168864   3846048  95167   \n",
       "2020-02-23 22:15:02  192.168.10.30     93.8   65955588  65264088  12110   \n",
       "2020-02-23 22:15:03  192.168.10.23     41.3  115572872  90590608    922   \n",
       "2020-02-23 22:15:03  192.168.10.92      2.1    8168864   3847224  51386   \n",
       "\n",
       "                         tx  rootrate  ioawait  ioutil  memutils  \n",
       "date                                                              \n",
       "2020-02-23 22:10:02     253        67     1.66    0.07     78.39  \n",
       "2020-02-23 22:10:03  129432        71     3.51   56.01     47.08  \n",
       "2020-02-23 22:15:02  117974        67     3.05    0.22     98.95  \n",
       "2020-02-23 22:15:03     324        67     1.66    0.07     78.38  \n",
       "2020-02-23 22:15:03   83148        71     3.51   56.01     78.38  "
      ]
     },
     "execution_count": 70,
     "metadata": {},
     "output_type": "execute_result"
    }
   ],
   "source": [
    "df[:5]"
   ]
  },
  {
   "cell_type": "markdown",
   "metadata": {},
   "source": [
    "### 5.多个图看着更方便点\n",
    "* 选择一个ip，显示这个ip的所有数据,\n",
    "* 选择采样间隔，数据图跟随变化"
   ]
  },
  {
   "cell_type": "code",
   "execution_count": 72,
   "metadata": {},
   "outputs": [
    {
     "data": {
      "application/vnd.jupyter.widget-view+json": {
       "model_id": "ecac3aee8e214d4aaf8bd42110aa00e6",
       "version_major": 2,
       "version_minor": 0
      },
      "text/plain": [
       "interactive(children=(Dropdown(description='ip', options=('192.168.10.23', '192.168.10.92', '192.168.10.30', '…"
      ]
     },
     "metadata": {},
     "output_type": "display_data"
    },
    {
     "data": {
      "text/plain": [
       "<function __main__.update(ip, per)>"
      ]
     },
     "execution_count": 72,
     "metadata": {},
     "output_type": "execute_result"
    }
   ],
   "source": [
    "#多图，选择一个ip，显示这个ip的所有数据\n",
    "#选择采样间隔，数据图跟随变化\n",
    "from bokeh.palettes import Spectral11\n",
    "from bokeh.layouts import row\n",
    "from bokeh.layouts import gridplot\n",
    "\n",
    "def update(ip,per):\n",
    "    p = figure(x_axis_type='datetime',plot_width=250, plot_height=250)\n",
    "    p.yaxis.axis_label = 'cpuidle'\n",
    "    grouped=df3.loc[(df3['ip']==ip ),['cpuidle']].resample(per).mean().reset_index()\n",
    "    source = ColumnDataSource(grouped)\n",
    "    p.line(x='date', y='cpuidle', line_width=1, source=source, color=Spectral11[ips.tolist().index(ip)],legend_label='cpuidle')\n",
    "\n",
    "    p2 = figure(x_axis_type='datetime',plot_width=250, plot_height=250)\n",
    "    p2.yaxis.axis_label = 'memutils'\n",
    "    grouped2=df3.loc[(df3['ip']==ip ),['memutils']].resample(per).mean().reset_index()\n",
    "    source2= ColumnDataSource(grouped2)\n",
    "    p2.line(x='date', y='memutils', line_width=1, source=source2, color=Spectral11[ips.tolist().index(ip)],legend_label='memutils')\n",
    "\n",
    "    p3 = figure(x_axis_type='datetime',plot_width=250, plot_height=250)\n",
    "    p3.yaxis.axis_label = 'rootrate'\n",
    "    grouped3=df3.loc[(df3['ip']==ip ),['rootrate']].resample(per).mean().reset_index()\n",
    "    source3= ColumnDataSource(grouped3)\n",
    "    p3.line(x='date', y='rootrate', line_width=1, source=source3, color=Spectral11[ips.tolist().index(ip)],legend_label='rootrate')\n",
    "    \n",
    "    p4 = figure(x_axis_type='datetime',plot_width=250, plot_height=250)\n",
    "    p4.yaxis.axis_label = 'iotuil'\n",
    "    grouped4=df3.loc[(df3['ip']==ip ),['ioutil']].resample(per).mean().reset_index()\n",
    "    source4= ColumnDataSource(grouped4)\n",
    "    p4.line(x='date', y='ioutil', line_width=1, source=source4, color=Spectral11[ips.tolist().index(ip)],legend_label='ioutil')\n",
    "    \n",
    "    p_rx = figure(x_axis_type='datetime',plot_width=250, plot_height=250)\n",
    "    p_rx.yaxis.axis_label = 'rx'\n",
    "    grouped_rx=df3.loc[(df3['ip']==ip ),['rx']].resample(per).mean().reset_index()\n",
    "    source_rx= ColumnDataSource(grouped_rx)\n",
    "    p_rx.line(x='date', y='rx', line_width=1, source=source_rx, color=Spectral11[ips.tolist().index(ip)],legend_label='rx')\n",
    "    \n",
    "    p_tx = figure(x_axis_type='datetime',plot_width=250, plot_height=250)\n",
    "    p_tx.yaxis.axis_label = 'tx'\n",
    "    grouped_tx=df3.loc[(df3['ip']==ip ),['tx']].resample(per).mean().reset_index()\n",
    "    source_tx= ColumnDataSource(grouped_tx)\n",
    "    p_tx.line(x='date', y='tx', line_width=1, source=source_tx, color=Spectral11[ips.tolist().index(ip)],legend_label='tx')\n",
    "    \n",
    "    #show(row(p,p2,p_rx), notebook_handle=True)\n",
    "    #show(row(p3,p4,p_tx), notebook_handle=True)\n",
    "    grid = gridplot([[p, p2,p_rx], [p3,p4, p_tx]], plot_width=250, plot_height=250)\n",
    "    show(grid, notebook_handle=True)\n",
    "    push_notebook()\n",
    "\n",
    "ips=df3['ip'].unique()\n",
    "period=['5min','15min','60min','120min','D','2D','3D']\n",
    "interact(update, ip=ips,  per=period)\n",
    "\n",
    "# make a grid\n",
    "#grid = gridplot([s1, s2, s3], ncols=2, plot_width=250, plot_height=250)\n",
    "#grid = gridplot([[s1, s2], [None, s3]], plot_width=250, plot_height=250)\n",
    "#show(grid)"
   ]
  },
  {
   "cell_type": "markdown",
   "metadata": {},
   "source": [
    "### 官方实例\n",
    "* bokeh example : https://github.com/bokeh/bokeh/tree/master/examples/app/movies\n",
    "* datashader example: https://github.com/holoviz/datashader/tree/master/examples\n",
    "\n",
    "### 下一步：怎么单独运行bokeh，显示到网页交互？\n",
    "\n",
    "## ----------------------------------------------The End------------------------------------------------------"
   ]
  },
  {
   "cell_type": "code",
   "execution_count": null,
   "metadata": {},
   "outputs": [],
   "source": []
  },
  {
   "cell_type": "code",
   "execution_count": null,
   "metadata": {},
   "outputs": [],
   "source": []
  }
 ],
 "metadata": {
  "kernelspec": {
   "display_name": "Python 3",
   "language": "python",
   "name": "python3"
  },
  "language_info": {
   "codemirror_mode": {
    "name": "ipython",
    "version": 3
   },
   "file_extension": ".py",
   "mimetype": "text/x-python",
   "name": "python",
   "nbconvert_exporter": "python",
   "pygments_lexer": "ipython3",
   "version": "3.7.6"
  }
 },
 "nbformat": 4,
 "nbformat_minor": 4
}
